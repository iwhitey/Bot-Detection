{
 "cells": [
  {
   "cell_type": "markdown",
   "metadata": {},
   "source": [
    "## Bots and Gender Profiling\n",
    "https://pan.webis.de/clef19/pan19-web/author-profiling.html"
   ]
  },
  {
   "cell_type": "markdown",
   "metadata": {},
   "source": [
    "### loading the dataset from pickle and training a simple baseline"
   ]
  },
  {
   "cell_type": "code",
   "execution_count": 3,
   "metadata": {
    "ExecuteTime": {
     "end_time": "2020-05-12T07:21:54.790236Z",
     "start_time": "2020-05-12T07:21:54.781324Z"
    }
   },
   "outputs": [],
   "source": [
    "import pandas as pd\n",
    "\n",
    "from sklearn.naive_bayes import GaussianNB\n",
    "from sklearn.metrics import f1_score, accuracy_score\n",
    "from sklearn.feature_extraction.text import TfidfVectorizer\n",
    "from sklearn.preprocessing import LabelBinarizer"
   ]
  },
  {
   "cell_type": "markdown",
   "metadata": {},
   "source": [
    "#### unpickling the dataframe"
   ]
  },
  {
   "cell_type": "code",
   "execution_count": 4,
   "metadata": {
    "ExecuteTime": {
     "end_time": "2020-05-12T07:21:55.559233Z",
     "start_time": "2020-05-12T07:21:54.793295Z"
    }
   },
   "outputs": [
    {
     "name": "stdout",
     "output_type": "stream",
     "text": [
      "train size: (412000, 4), test size: (264000, 4)\n"
     ]
    }
   ],
   "source": [
    "df_train = pd.read_pickle(\"./pan19_df_clean_train_no_uris.pkl\")\n",
    "df_test = pd.read_pickle(\"./pan19_df_clean_test_no_uris.pkl\")\n",
    "print(f\"train size: {df_train.shape}, test size: {df_test.shape}\")"
   ]
  },
  {
   "cell_type": "code",
   "execution_count": 5,
   "metadata": {
    "ExecuteTime": {
     "end_time": "2020-05-12T07:21:55.601114Z",
     "start_time": "2020-05-12T07:21:55.562393Z"
    }
   },
   "outputs": [
    {
     "data": {
      "text/html": [
       "<div>\n",
       "<style scoped>\n",
       "    .dataframe tbody tr th:only-of-type {\n",
       "        vertical-align: middle;\n",
       "    }\n",
       "\n",
       "    .dataframe tbody tr th {\n",
       "        vertical-align: top;\n",
       "    }\n",
       "\n",
       "    .dataframe thead th {\n",
       "        text-align: right;\n",
       "    }\n",
       "</style>\n",
       "<table border=\"1\" class=\"dataframe\">\n",
       "  <thead>\n",
       "    <tr style=\"text-align: right;\">\n",
       "      <th></th>\n",
       "      <th>author</th>\n",
       "      <th>tweet</th>\n",
       "      <th>bot</th>\n",
       "      <th>clean_tweet</th>\n",
       "    </tr>\n",
       "  </thead>\n",
       "  <tbody>\n",
       "    <tr>\n",
       "      <th>0</th>\n",
       "      <td>7fbb9ceb600ebc6fcadc9ee235cda580</td>\n",
       "      <td>During a brief chat, Hope Hicks accidentally c...</td>\n",
       "      <td>bot</td>\n",
       "      <td>brief chat hope hick accidentally convinces pr...</td>\n",
       "    </tr>\n",
       "    <tr>\n",
       "      <th>1</th>\n",
       "      <td>7fbb9ceb600ebc6fcadc9ee235cda580</td>\n",
       "      <td>Sighing deeply, Lamar Smith informs President ...</td>\n",
       "      <td>bot</td>\n",
       "      <td>sighing deeply lamar smith informs president t...</td>\n",
       "    </tr>\n",
       "    <tr>\n",
       "      <th>2</th>\n",
       "      <td>7fbb9ceb600ebc6fcadc9ee235cda580</td>\n",
       "      <td>At a playground, Stephen Miller mistakenly tel...</td>\n",
       "      <td>bot</td>\n",
       "      <td>playground stephen miller mistakenly tell bets...</td>\n",
       "    </tr>\n",
       "    <tr>\n",
       "      <th>3</th>\n",
       "      <td>7fbb9ceb600ebc6fcadc9ee235cda580</td>\n",
       "      <td>On the South Lawn, Louie Gohmert persuades Jef...</td>\n",
       "      <td>bot</td>\n",
       "      <td>south lawn louie gohmert persuades jeff sessio...</td>\n",
       "    </tr>\n",
       "    <tr>\n",
       "      <th>4</th>\n",
       "      <td>7fbb9ceb600ebc6fcadc9ee235cda580</td>\n",
       "      <td>In the West Wing, Sean Spicer boldly informs K...</td>\n",
       "      <td>bot</td>\n",
       "      <td>west wing sean spicer boldly informs kellyanne...</td>\n",
       "    </tr>\n",
       "  </tbody>\n",
       "</table>\n",
       "</div>"
      ],
      "text/plain": [
       "                             author  \\\n",
       "0  7fbb9ceb600ebc6fcadc9ee235cda580   \n",
       "1  7fbb9ceb600ebc6fcadc9ee235cda580   \n",
       "2  7fbb9ceb600ebc6fcadc9ee235cda580   \n",
       "3  7fbb9ceb600ebc6fcadc9ee235cda580   \n",
       "4  7fbb9ceb600ebc6fcadc9ee235cda580   \n",
       "\n",
       "                                               tweet  bot  \\\n",
       "0  During a brief chat, Hope Hicks accidentally c...  bot   \n",
       "1  Sighing deeply, Lamar Smith informs President ...  bot   \n",
       "2  At a playground, Stephen Miller mistakenly tel...  bot   \n",
       "3  On the South Lawn, Louie Gohmert persuades Jef...  bot   \n",
       "4  In the West Wing, Sean Spicer boldly informs K...  bot   \n",
       "\n",
       "                                         clean_tweet  \n",
       "0  brief chat hope hick accidentally convinces pr...  \n",
       "1  sighing deeply lamar smith informs president t...  \n",
       "2  playground stephen miller mistakenly tell bets...  \n",
       "3  south lawn louie gohmert persuades jeff sessio...  \n",
       "4  west wing sean spicer boldly informs kellyanne...  "
      ]
     },
     "execution_count": 5,
     "metadata": {},
     "output_type": "execute_result"
    }
   ],
   "source": [
    "df_train.head()"
   ]
  },
  {
   "cell_type": "markdown",
   "metadata": {},
   "source": [
    "#### transforming target variables"
   ]
  },
  {
   "cell_type": "code",
   "execution_count": 6,
   "metadata": {
    "ExecuteTime": {
     "end_time": "2020-05-12T07:21:56.351450Z",
     "start_time": "2020-05-12T07:21:55.602642Z"
    }
   },
   "outputs": [
    {
     "data": {
      "text/plain": [
       "['bot', 'human']"
      ]
     },
     "execution_count": 6,
     "metadata": {},
     "output_type": "execute_result"
    }
   ],
   "source": [
    "multilabel_binarizer = LabelBinarizer()\n",
    "multilabel_binarizer.fit(df_train['bot'])\n",
    "list(multilabel_binarizer.classes_)"
   ]
  },
  {
   "cell_type": "code",
   "execution_count": 7,
   "metadata": {
    "ExecuteTime": {
     "end_time": "2020-05-12T07:21:57.069935Z",
     "start_time": "2020-05-12T07:21:56.352735Z"
    }
   },
   "outputs": [
    {
     "name": "stdout",
     "output_type": "stream",
     "text": [
      "train dimensions: (412000, 1)\n",
      "test dimensions: (264000, 1)\n"
     ]
    }
   ],
   "source": [
    "ytrain = multilabel_binarizer.transform(df_train['bot'])\n",
    "ytest = multilabel_binarizer.transform(df_test['bot'])\n",
    "print(f\"train dimensions: {len(ytrain), len(ytrain[0])}\")\n",
    "print(f\"test dimensions: {len(ytest), len(ytest[0])}\")"
   ]
  },
  {
   "cell_type": "code",
   "execution_count": 8,
   "metadata": {
    "ExecuteTime": {
     "end_time": "2020-05-12T07:21:57.143743Z",
     "start_time": "2020-05-12T07:21:57.071389Z"
    }
   },
   "outputs": [
    {
     "name": "stdout",
     "output_type": "stream",
     "text": [
      "train dimensions: (412000, 118)\n",
      "test dimensions: (264000, 30)\n"
     ]
    }
   ],
   "source": [
    "xtrain=df_train.clean_tweet\n",
    "xtest=df_test.clean_tweet\n",
    "print(f\"train dimensions: {len(xtrain), len(xtrain[0])}\")\n",
    "print(f\"test dimensions: {len(xtest), len(xtest[0])}\")"
   ]
  },
  {
   "cell_type": "code",
   "execution_count": 9,
   "metadata": {
    "ExecuteTime": {
     "end_time": "2020-05-12T07:21:57.192546Z",
     "start_time": "2020-05-12T07:21:57.145279Z"
    }
   },
   "outputs": [
    {
     "data": {
      "text/plain": [
       "'brief chat hope hick accidentally convinces president trump nazi heavily armed adam sandler get tackled secret service'"
      ]
     },
     "execution_count": 9,
     "metadata": {},
     "output_type": "execute_result"
    }
   ],
   "source": [
    "xtrain[0]"
   ]
  },
  {
   "cell_type": "code",
   "execution_count": 10,
   "metadata": {
    "ExecuteTime": {
     "end_time": "2020-05-12T07:22:03.732379Z",
     "start_time": "2020-05-12T07:21:57.194968Z"
    }
   },
   "outputs": [
    {
     "name": "stdout",
     "output_type": "stream",
     "text": [
      "(412000, 10000) (264000, 10000)\n"
     ]
    }
   ],
   "source": [
    "tfidf_vectorizer = TfidfVectorizer(max_df=0.8, max_features=10000)\n",
    "\n",
    "xtrain_tfidf = tfidf_vectorizer.fit_transform(xtrain)\n",
    "xtest_tfidf = tfidf_vectorizer.transform(xtest)\n",
    "print (xtrain_tfidf.shape, xtest_tfidf.shape)"
   ]
  },
  {
   "cell_type": "markdown",
   "metadata": {},
   "source": [
    "#### training"
   ]
  },
  {
   "cell_type": "code",
   "execution_count": 11,
   "metadata": {
    "ExecuteTime": {
     "end_time": "2020-05-12T07:49:02.375769Z",
     "start_time": "2020-05-12T07:22:03.734023Z"
    }
   },
   "outputs": [
    {
     "name": "stderr",
     "output_type": "stream",
     "text": [
      "/home/ianic/.conda/envs/tar/lib/python3.7/site-packages/sklearn/naive_bayes.py:206: DataConversionWarning: A column-vector y was passed when a 1d array was expected. Please change the shape of y to (n_samples, ), for example using ravel().\n",
      "  y = column_or_1d(y, warn=True)\n"
     ]
    },
    {
     "data": {
      "text/plain": [
       "GaussianNB(priors=None, var_smoothing=1e-09)"
      ]
     },
     "execution_count": 11,
     "metadata": {},
     "output_type": "execute_result"
    }
   ],
   "source": [
    "NB_model = GaussianNB()\n",
    "NB_model.fit(xtrain_tfidf.toarray(), ytrain.ravel()) # N,1 -> N,"
   ]
  },
  {
   "cell_type": "markdown",
   "metadata": {
    "ExecuteTime": {
     "end_time": "2020-05-12T08:42:16.138492Z",
     "start_time": "2020-05-12T08:42:16.103335Z"
    }
   },
   "source": [
    "#### prediction"
   ]
  },
  {
   "cell_type": "code",
   "execution_count": 12,
   "metadata": {
    "ExecuteTime": {
     "end_time": "2020-05-12T07:57:59.470985Z",
     "start_time": "2020-05-12T07:49:03.990952Z"
    }
   },
   "outputs": [],
   "source": [
    "y_predict_nb = NB_model.predict(xtest_tfidf.toarray())"
   ]
  },
  {
   "cell_type": "code",
   "execution_count": 14,
   "metadata": {
    "ExecuteTime": {
     "end_time": "2020-05-12T08:19:30.935113Z",
     "start_time": "2020-05-12T08:19:30.633785Z"
    }
   },
   "outputs": [
    {
     "name": "stdout",
     "output_type": "stream",
     "text": [
      "accuracy_score: 0.6679393939393939\n",
      "f1-macro: 0.6501582179259409\n"
     ]
    }
   ],
   "source": [
    "# with url_token\n",
    "print(f\"accuracy_score: {accuracy_score(ytest, y_predict_nb)}\")\n",
    "print(f\"f1-macro: {f1_score(ytest, y_predict_nb, average='macro')}\")"
   ]
  },
  {
   "cell_type": "code",
   "execution_count": 14,
   "metadata": {
    "ExecuteTime": {
     "end_time": "2020-05-12T05:10:36.997885Z",
     "start_time": "2020-05-12T05:10:34.661944Z"
    }
   },
   "outputs": [
    {
     "name": "stdout",
     "output_type": "stream",
     "text": [
      "accuracy_score: 0.6566212121212122\n",
      "f1-micro: 0.6566212121212122\n",
      "f1-macro: 0.6494156046860575\n"
     ]
    }
   ],
   "source": [
    "print(f\"accuracy_score: {accuracy_score(ytest, y_predict_nb)}\")\n",
    "print(f\"f1-micro: {f1_score(ytest, y_predict_nb, average='micro')}\")\n",
    "print(f\"f1-macro: {f1_score(ytest, y_predict_nb, average='macro')}\")"
   ]
  },
  {
   "cell_type": "code",
   "execution_count": 16,
   "metadata": {
    "ExecuteTime": {
     "end_time": "2020-05-12T05:16:35.928770Z",
     "start_time": "2020-05-12T05:13:20.739961Z"
    }
   },
   "outputs": [],
   "source": [
    "# import dill\n",
    "# dill.dump_session('nb_naive_bayes.db')"
   ]
  },
  {
   "cell_type": "code",
   "execution_count": null,
   "metadata": {},
   "outputs": [],
   "source": []
  }
 ],
 "metadata": {
  "kernelspec": {
   "display_name": "tar",
   "language": "python",
   "name": "tar"
  },
  "language_info": {
   "codemirror_mode": {
    "name": "ipython",
    "version": 3
   },
   "file_extension": ".py",
   "mimetype": "text/x-python",
   "name": "python",
   "nbconvert_exporter": "python",
   "pygments_lexer": "ipython3",
   "version": "3.7.4"
  }
 },
 "nbformat": 4,
 "nbformat_minor": 4
}
