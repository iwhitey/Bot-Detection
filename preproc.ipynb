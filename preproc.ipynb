{
 "cells": [
  {
   "cell_type": "markdown",
   "metadata": {},
   "source": [
    "## Bots and Gender Profiling\n",
    "https://pan.webis.de/clef19/pan19-web/author-profiling.html"
   ]
  },
  {
   "cell_type": "markdown",
   "metadata": {
    "ExecuteTime": {
     "end_time": "2020-05-11T11:35:11.045781Z",
     "start_time": "2020-05-11T11:35:11.013224Z"
    }
   },
   "source": [
    "####  data preprocessing"
   ]
  },
  {
   "cell_type": "code",
   "execution_count": 14,
   "metadata": {
    "ExecuteTime": {
     "end_time": "2020-05-12T08:00:34.484869Z",
     "start_time": "2020-05-12T08:00:30.765644Z"
    }
   },
   "outputs": [
    {
     "name": "stderr",
     "output_type": "stream",
     "text": [
      "[nltk_data] Downloading package punkt to /home/enoch/nltk_data...\n",
      "[nltk_data]   Package punkt is already up-to-date!\n",
      "[nltk_data] Downloading package stopwords to /home/enoch/nltk_data...\n",
      "[nltk_data]   Package stopwords is already up-to-date!\n",
      "[nltk_data] Downloading package wordnet to /home/enoch/nltk_data...\n",
      "[nltk_data]   Package wordnet is already up-to-date!\n"
     ]
    },
    {
     "data": {
      "text/plain": [
       "True"
      ]
     },
     "execution_count": 14,
     "metadata": {},
     "output_type": "execute_result"
    }
   ],
   "source": [
    "import ssl\n",
    "import html\n",
    "import IPython\n",
    "import matplotlib.pyplot as plt\n",
    "import nltk\n",
    "import os\n",
    "import pandas as pd\n",
    "import re\n",
    "import seaborn as sns\n",
    "import sys\n",
    "import xml.etree.ElementTree as ElementTree\n",
    "\n",
    "from dataset import Dataset\n",
    "from itertools import zip_longest\n",
    "from nltk.corpus import stopwords\n",
    "from nltk.tokenize import TweetTokenizer\n",
    "from nltk.stem import WordNetLemmatizer\n",
    "from pathlib import Path\n",
    "\n",
    "# https://stackoverflow.com/questions/38916452/nltk-download-ssl-certificate-verify-failed\n",
    "try:\n",
    "    _create_unverified_https_context = ssl._create_unverified_context\n",
    "except AttributeError:\n",
    "    pass\n",
    "else:\n",
    "    ssl._create_default_https_context = _create_unverified_https_context\n",
    "\n",
    "#tokenizer\n",
    "nltk.download('punkt')\n",
    "#stopwords\n",
    "nltk.download('stopwords')\n",
    "#lemmatizer\n",
    "nltk.download('wordnet')"
   ]
  },
  {
   "cell_type": "code",
   "execution_count": 15,
   "metadata": {
    "ExecuteTime": {
     "end_time": "2020-05-12T08:00:44.797380Z",
     "start_time": "2020-05-12T08:00:38.180895Z"
    }
   },
   "outputs": [
    {
     "name": "stdout",
     "output_type": "stream",
     "text": [
      "4120 4120\n",
      "2640 2640\n"
     ]
    }
   ],
   "source": [
    "dataset = Dataset(Path(\"./dataset/pan19-author-profiling-training-2019-02-18/en\"),\n",
    "  Path(\"./dataset/pan19-author-profiling-training-2019-02-18/en_labels/truth.txt\"),\n",
    "  Path(\"./dataset/pan19-author-profiling-test-2019-04-29/en\"),\n",
    "  Path(\"./dataset/pan19-author-profiling-test-2019-04-29/truth.txt\"))\n",
    "\n",
    "xtrain, ytrain, xtest, ytest = dataset.get_data()\n",
    "print(len(xtrain), len(ytrain))\n",
    "print(len(xtest), len(ytest))"
   ]
  },
  {
   "cell_type": "code",
   "execution_count": 16,
   "metadata": {
    "ExecuteTime": {
     "end_time": "2020-05-12T05:18:50.832715Z",
     "start_time": "2020-05-12T05:18:50.273928Z"
    }
   },
   "outputs": [
    {
     "name": "stdout",
     "output_type": "stream",
     "text": [
      "train size: (412000, 3), test size: (264000, 3)\n"
     ]
    }
   ],
   "source": [
    "d = {'author': [], 'tweet': [], 'bot': []}\n",
    "for author in xtrain:\n",
    "    for tweet in xtrain[author]:\n",
    "        d['author'].append(author)\n",
    "        d['tweet'].append(tweet)\n",
    "        d['bot'].append(ytrain[author][0])\n",
    "\n",
    "df_train = pd.DataFrame(d, columns=['author', 'tweet', 'bot'])\n",
    "\n",
    "d = {'author': [], 'tweet': [], 'bot': []}\n",
    "for author in xtest:\n",
    "    for tweet in xtest[author]:\n",
    "        d['author'].append(author)\n",
    "        d['tweet'].append(tweet)\n",
    "        d['bot'].append(ytest[author][0])\n",
    "\n",
    "df_test = pd.DataFrame(d, columns=['author', 'tweet', 'bot'])\n",
    "\n",
    "print(f\"train size: {df_train.shape}, test size: {df_test.shape}\")"
   ]
  },
  {
   "cell_type": "code",
   "execution_count": 17,
   "metadata": {
    "ExecuteTime": {
     "end_time": "2020-05-12T05:18:50.942806Z",
     "start_time": "2020-05-12T05:18:50.834360Z"
    }
   },
   "outputs": [
    {
     "name": "stdout",
     "output_type": "stream",
     "text": [
      "df size: (676000, 3)\n"
     ]
    },
    {
     "data": {
      "text/html": [
       "<div>\n",
       "<style scoped>\n",
       "    .dataframe tbody tr th:only-of-type {\n",
       "        vertical-align: middle;\n",
       "    }\n",
       "\n",
       "    .dataframe tbody tr th {\n",
       "        vertical-align: top;\n",
       "    }\n",
       "\n",
       "    .dataframe thead th {\n",
       "        text-align: right;\n",
       "    }\n",
       "</style>\n",
       "<table border=\"1\" class=\"dataframe\">\n",
       "  <thead>\n",
       "    <tr style=\"text-align: right;\">\n",
       "      <th></th>\n",
       "      <th>author</th>\n",
       "      <th>tweet</th>\n",
       "      <th>bot</th>\n",
       "    </tr>\n",
       "  </thead>\n",
       "  <tbody>\n",
       "    <tr>\n",
       "      <th>0</th>\n",
       "      <td>47b0c91666f8e47948049eb1fc2202f9</td>\n",
       "      <td>Town &amp;amp; Country Magazine Uninvited Monica L...</td>\n",
       "      <td>bot</td>\n",
       "    </tr>\n",
       "    <tr>\n",
       "      <th>1</th>\n",
       "      <td>47b0c91666f8e47948049eb1fc2202f9</td>\n",
       "      <td>Lead Business Systems Analyst – Automated Test...</td>\n",
       "      <td>bot</td>\n",
       "    </tr>\n",
       "    <tr>\n",
       "      <th>2</th>\n",
       "      <td>47b0c91666f8e47948049eb1fc2202f9</td>\n",
       "      <td>Senior Software Engineer, Business Process Eng...</td>\n",
       "      <td>bot</td>\n",
       "    </tr>\n",
       "    <tr>\n",
       "      <th>3</th>\n",
       "      <td>47b0c91666f8e47948049eb1fc2202f9</td>\n",
       "      <td>Technical Support Engineer: Technical Support ...</td>\n",
       "      <td>bot</td>\n",
       "    </tr>\n",
       "    <tr>\n",
       "      <th>4</th>\n",
       "      <td>47b0c91666f8e47948049eb1fc2202f9</td>\n",
       "      <td>Mueller questioned Novartis payment to Trump l...</td>\n",
       "      <td>bot</td>\n",
       "    </tr>\n",
       "    <tr>\n",
       "      <th>...</th>\n",
       "      <td>...</td>\n",
       "      <td>...</td>\n",
       "      <td>...</td>\n",
       "    </tr>\n",
       "    <tr>\n",
       "      <th>263995</th>\n",
       "      <td>4e14afaa7e24e0498891cbe13f0213ff</td>\n",
       "      <td>I appreciate this councilman, but as someone w...</td>\n",
       "      <td>human</td>\n",
       "    </tr>\n",
       "    <tr>\n",
       "      <th>263996</th>\n",
       "      <td>4e14afaa7e24e0498891cbe13f0213ff</td>\n",
       "      <td>RT @ShaneGoldmacher: NEWS: Andrew Cuomo just a...</td>\n",
       "      <td>human</td>\n",
       "    </tr>\n",
       "    <tr>\n",
       "      <th>263997</th>\n",
       "      <td>4e14afaa7e24e0498891cbe13f0213ff</td>\n",
       "      <td>RT @ShaneGoldmacher: NEW: On his first day in ...</td>\n",
       "      <td>human</td>\n",
       "    </tr>\n",
       "    <tr>\n",
       "      <th>263998</th>\n",
       "      <td>4e14afaa7e24e0498891cbe13f0213ff</td>\n",
       "      <td>RT @brianschatz: In no particular order: I’m 4...</td>\n",
       "      <td>human</td>\n",
       "    </tr>\n",
       "    <tr>\n",
       "      <th>263999</th>\n",
       "      <td>4e14afaa7e24e0498891cbe13f0213ff</td>\n",
       "      <td>RT @CNN: A source close to the President says ...</td>\n",
       "      <td>human</td>\n",
       "    </tr>\n",
       "  </tbody>\n",
       "</table>\n",
       "<p>676000 rows × 3 columns</p>\n",
       "</div>"
      ],
      "text/plain": [
       "                                  author  \\\n",
       "0       47b0c91666f8e47948049eb1fc2202f9   \n",
       "1       47b0c91666f8e47948049eb1fc2202f9   \n",
       "2       47b0c91666f8e47948049eb1fc2202f9   \n",
       "3       47b0c91666f8e47948049eb1fc2202f9   \n",
       "4       47b0c91666f8e47948049eb1fc2202f9   \n",
       "...                                  ...   \n",
       "263995  4e14afaa7e24e0498891cbe13f0213ff   \n",
       "263996  4e14afaa7e24e0498891cbe13f0213ff   \n",
       "263997  4e14afaa7e24e0498891cbe13f0213ff   \n",
       "263998  4e14afaa7e24e0498891cbe13f0213ff   \n",
       "263999  4e14afaa7e24e0498891cbe13f0213ff   \n",
       "\n",
       "                                                    tweet    bot  \n",
       "0       Town &amp; Country Magazine Uninvited Monica L...    bot  \n",
       "1       Lead Business Systems Analyst – Automated Test...    bot  \n",
       "2       Senior Software Engineer, Business Process Eng...    bot  \n",
       "3       Technical Support Engineer: Technical Support ...    bot  \n",
       "4       Mueller questioned Novartis payment to Trump l...    bot  \n",
       "...                                                   ...    ...  \n",
       "263995  I appreciate this councilman, but as someone w...  human  \n",
       "263996  RT @ShaneGoldmacher: NEWS: Andrew Cuomo just a...  human  \n",
       "263997  RT @ShaneGoldmacher: NEW: On his first day in ...  human  \n",
       "263998  RT @brianschatz: In no particular order: I’m 4...  human  \n",
       "263999  RT @CNN: A source close to the President says ...  human  \n",
       "\n",
       "[676000 rows x 3 columns]"
      ]
     },
     "execution_count": 17,
     "metadata": {},
     "output_type": "execute_result"
    }
   ],
   "source": [
    "# complete dataset\n",
    "df = pd.concat([df_train, df_test])\n",
    "print(f\"df size: {df.shape}\")\n",
    "df"
   ]
  },
  {
   "cell_type": "code",
   "execution_count": 5,
   "metadata": {
    "ExecuteTime": {
     "end_time": "2020-05-12T05:18:51.712293Z",
     "start_time": "2020-05-12T05:18:50.945582Z"
    }
   },
   "outputs": [
    {
     "data": {
      "text/plain": [
       "<matplotlib.axes._subplots.AxesSubplot at 0x7f1efc6ff280>"
      ]
     },
     "execution_count": 5,
     "metadata": {},
     "output_type": "execute_result"
    },
    {
     "data": {
      "image/png": "[encoded data removed]",
      "text/plain": [
       "<Figure size 432x288 with 1 Axes>"
      ]
     },
     "metadata": {
      "needs_background": "light"
     },
     "output_type": "display_data"
    }
   ],
   "source": [
    "sns.countplot(df['bot'])"
   ]
  },
  {
   "cell_type": "markdown",
   "metadata": {},
   "source": [
    "## Preproc"
   ]
  },
  {
   "cell_type": "code",
   "execution_count": 6,
   "metadata": {
    "ExecuteTime": {
     "end_time": "2020-05-12T08:27:08.639495Z",
     "start_time": "2020-05-12T08:27:08.004443Z"
    }
   },
   "outputs": [],
   "source": [
    "tokenizer = TweetTokenizer()\n",
    "lemmatizer = WordNetLemmatizer() \n",
    "\n",
    "def replace_num_token(text, replace_with = ''):\n",
    "    \"\"\" Replace all numbers with a unique token.\n",
    "    \"\"\"\n",
    "    text = re.sub(r\"\\d+\", replace_with, text).strip()\n",
    "    return text\n",
    "\n",
    "def clean_text(text):    \n",
    "    # lowercase \n",
    "    text = text.lower()\n",
    "    \n",
    "    # remove urls\n",
    "    text = re.sub(r\"http\\S+|www\\S+|https\\S+\", 'URL_TOKEN', text, flags=re.MULTILINE)\n",
    "    \n",
    "    # maybe strip tags\n",
    "    text = re.sub(r'\\@\\w+|\\#','RT_TOKEN', text)\n",
    "    \n",
    "    # strip html tags\n",
    "    text = html.unescape(text)\n",
    "    \n",
    "    # remove non-words\n",
    "    text = re.sub('\\W', ' ', text)\n",
    "    \n",
    "    # remove single chars\n",
    "    text = re.sub(r'(?:^| )\\w(?:$| )', ' ', text)\n",
    "    \n",
    "    # replace numbers with NUM_TOKEN\n",
    "    text = replace_num_token(text, 'NUM_TOKEN')\n",
    "    \n",
    "    # tokenize\n",
    "    tokenized = tokenizer.tokenize(text)\n",
    "    tokenized = list(map(lambda x : lemmatizer.lemmatize(x), tokenized))\n",
    "\n",
    "    # remove stopwords\n",
    "    words = [w for w in tokenized if not w in stopwords.words('english')]\n",
    "\n",
    "    return \" \".join(words)\n",
    "  "
   ]
  },
  {
   "cell_type": "code",
   "execution_count": 7,
   "metadata": {
    "ExecuteTime": {
     "end_time": "2020-05-12T05:28:45.922231Z",
     "start_time": "2020-05-12T05:19:44.155332Z"
    },
    "scrolled": false
   },
   "outputs": [
    {
     "data": {
      "text/html": [
       "<div>\n",
       "<style scoped>\n",
       "    .dataframe tbody tr th:only-of-type {\n",
       "        vertical-align: middle;\n",
       "    }\n",
       "\n",
       "    .dataframe tbody tr th {\n",
       "        vertical-align: top;\n",
       "    }\n",
       "\n",
       "    .dataframe thead th {\n",
       "        text-align: right;\n",
       "    }\n",
       "</style>\n",
       "<table border=\"1\" class=\"dataframe\">\n",
       "  <thead>\n",
       "    <tr style=\"text-align: right;\">\n",
       "      <th></th>\n",
       "      <th>author</th>\n",
       "      <th>tweet</th>\n",
       "      <th>bot</th>\n",
       "      <th>clean_tweet</th>\n",
       "    </tr>\n",
       "  </thead>\n",
       "  <tbody>\n",
       "    <tr>\n",
       "      <th>0</th>\n",
       "      <td>47b0c91666f8e47948049eb1fc2202f9</td>\n",
       "      <td>Town &amp;amp; Country Magazine Uninvited Monica L...</td>\n",
       "      <td>bot</td>\n",
       "      <td>town country magazine uninvited monica lewinsk...</td>\n",
       "    </tr>\n",
       "    <tr>\n",
       "      <th>1</th>\n",
       "      <td>47b0c91666f8e47948049eb1fc2202f9</td>\n",
       "      <td>Lead Business Systems Analyst – Automated Test...</td>\n",
       "      <td>bot</td>\n",
       "      <td>lead business system analyst automated testing...</td>\n",
       "    </tr>\n",
       "    <tr>\n",
       "      <th>2</th>\n",
       "      <td>47b0c91666f8e47948049eb1fc2202f9</td>\n",
       "      <td>Senior Software Engineer, Business Process Eng...</td>\n",
       "      <td>bot</td>\n",
       "      <td>senior software engineer business process engi...</td>\n",
       "    </tr>\n",
       "    <tr>\n",
       "      <th>3</th>\n",
       "      <td>47b0c91666f8e47948049eb1fc2202f9</td>\n",
       "      <td>Technical Support Engineer: Technical Support ...</td>\n",
       "      <td>bot</td>\n",
       "      <td>technical support engineer technical support e...</td>\n",
       "    </tr>\n",
       "    <tr>\n",
       "      <th>4</th>\n",
       "      <td>47b0c91666f8e47948049eb1fc2202f9</td>\n",
       "      <td>Mueller questioned Novartis payment to Trump l...</td>\n",
       "      <td>bot</td>\n",
       "      <td>mueller questioned novartis payment trump lawy...</td>\n",
       "    </tr>\n",
       "    <tr>\n",
       "      <th>...</th>\n",
       "      <td>...</td>\n",
       "      <td>...</td>\n",
       "      <td>...</td>\n",
       "      <td>...</td>\n",
       "    </tr>\n",
       "    <tr>\n",
       "      <th>411995</th>\n",
       "      <td>70ddcdd222a02d2df685e67a38b903d7</td>\n",
       "      <td>A little more persistence, a little more effor...</td>\n",
       "      <td>bot</td>\n",
       "      <td>little persistence little effort seemed hopele...</td>\n",
       "    </tr>\n",
       "    <tr>\n",
       "      <th>411996</th>\n",
       "      <td>70ddcdd222a02d2df685e67a38b903d7</td>\n",
       "      <td>Perseverance is a great element of success. If...</td>\n",
       "      <td>bot</td>\n",
       "      <td>perseverance great element success knock long ...</td>\n",
       "    </tr>\n",
       "    <tr>\n",
       "      <th>411997</th>\n",
       "      <td>70ddcdd222a02d2df685e67a38b903d7</td>\n",
       "      <td>Profit is a by-product of work; happiness is i...</td>\n",
       "      <td>bot</td>\n",
       "      <td>profit product work happiness chief product he...</td>\n",
       "    </tr>\n",
       "    <tr>\n",
       "      <th>411998</th>\n",
       "      <td>70ddcdd222a02d2df685e67a38b903d7</td>\n",
       "      <td>Quality questions create a quality life. Succe...</td>\n",
       "      <td>bot</td>\n",
       "      <td>quality question create quality life successfu...</td>\n",
       "    </tr>\n",
       "    <tr>\n",
       "      <th>411999</th>\n",
       "      <td>70ddcdd222a02d2df685e67a38b903d7</td>\n",
       "      <td>He who has a strong enough why can bear almost...</td>\n",
       "      <td>bot</td>\n",
       "      <td>ha strong enough bear almost friedrich nietzsche</td>\n",
       "    </tr>\n",
       "  </tbody>\n",
       "</table>\n",
       "<p>412000 rows × 4 columns</p>\n",
       "</div>"
      ],
      "text/plain": [
       "                                  author  \\\n",
       "0       47b0c91666f8e47948049eb1fc2202f9   \n",
       "1       47b0c91666f8e47948049eb1fc2202f9   \n",
       "2       47b0c91666f8e47948049eb1fc2202f9   \n",
       "3       47b0c91666f8e47948049eb1fc2202f9   \n",
       "4       47b0c91666f8e47948049eb1fc2202f9   \n",
       "...                                  ...   \n",
       "411995  70ddcdd222a02d2df685e67a38b903d7   \n",
       "411996  70ddcdd222a02d2df685e67a38b903d7   \n",
       "411997  70ddcdd222a02d2df685e67a38b903d7   \n",
       "411998  70ddcdd222a02d2df685e67a38b903d7   \n",
       "411999  70ddcdd222a02d2df685e67a38b903d7   \n",
       "\n",
       "                                                    tweet  bot  \\\n",
       "0       Town &amp; Country Magazine Uninvited Monica L...  bot   \n",
       "1       Lead Business Systems Analyst – Automated Test...  bot   \n",
       "2       Senior Software Engineer, Business Process Eng...  bot   \n",
       "3       Technical Support Engineer: Technical Support ...  bot   \n",
       "4       Mueller questioned Novartis payment to Trump l...  bot   \n",
       "...                                                   ...  ...   \n",
       "411995  A little more persistence, a little more effor...  bot   \n",
       "411996  Perseverance is a great element of success. If...  bot   \n",
       "411997  Profit is a by-product of work; happiness is i...  bot   \n",
       "411998  Quality questions create a quality life. Succe...  bot   \n",
       "411999  He who has a strong enough why can bear almost...  bot   \n",
       "\n",
       "                                              clean_tweet  \n",
       "0       town country magazine uninvited monica lewinsk...  \n",
       "1       lead business system analyst automated testing...  \n",
       "2       senior software engineer business process engi...  \n",
       "3       technical support engineer technical support e...  \n",
       "4       mueller questioned novartis payment trump lawy...  \n",
       "...                                                   ...  \n",
       "411995  little persistence little effort seemed hopele...  \n",
       "411996  perseverance great element success knock long ...  \n",
       "411997  profit product work happiness chief product he...  \n",
       "411998  quality question create quality life successfu...  \n",
       "411999   ha strong enough bear almost friedrich nietzsche  \n",
       "\n",
       "[412000 rows x 4 columns]"
      ]
     },
     "execution_count": 7,
     "metadata": {},
     "output_type": "execute_result"
    }
   ],
   "source": [
    "df_train['clean_tweet'] = df_train['tweet'].apply(lambda x: clean_text(x))\n",
    "df_train"
   ]
  },
  {
   "cell_type": "code",
   "execution_count": 8,
   "metadata": {
    "ExecuteTime": {
     "end_time": "2020-05-12T05:34:30.160605Z",
     "start_time": "2020-05-12T05:28:45.923616Z"
    },
    "scrolled": false
   },
   "outputs": [
    {
     "data": {
      "text/html": [
       "<div>\n",
       "<style scoped>\n",
       "    .dataframe tbody tr th:only-of-type {\n",
       "        vertical-align: middle;\n",
       "    }\n",
       "\n",
       "    .dataframe tbody tr th {\n",
       "        vertical-align: top;\n",
       "    }\n",
       "\n",
       "    .dataframe thead th {\n",
       "        text-align: right;\n",
       "    }\n",
       "</style>\n",
       "<table border=\"1\" class=\"dataframe\">\n",
       "  <thead>\n",
       "    <tr style=\"text-align: right;\">\n",
       "      <th></th>\n",
       "      <th>author</th>\n",
       "      <th>tweet</th>\n",
       "      <th>bot</th>\n",
       "      <th>clean_tweet</th>\n",
       "    </tr>\n",
       "  </thead>\n",
       "  <tbody>\n",
       "    <tr>\n",
       "      <th>0</th>\n",
       "      <td>b19731f08be7bd0632df805933a00b31</td>\n",
       "      <td>So, are you ready? You know what I’m talking a...</td>\n",
       "      <td>bot</td>\n",
       "      <td>ready know talking ready</td>\n",
       "    </tr>\n",
       "    <tr>\n",
       "      <th>1</th>\n",
       "      <td>b19731f08be7bd0632df805933a00b31</td>\n",
       "      <td>Warm thanks to everyone for support and encour...</td>\n",
       "      <td>bot</td>\n",
       "      <td>warm thanks everyone support encouragement jim...</td>\n",
       "    </tr>\n",
       "    <tr>\n",
       "      <th>2</th>\n",
       "      <td>b19731f08be7bd0632df805933a00b31</td>\n",
       "      <td>RT @Jim_Rohn_Quotes: “We must all suffer one o...</td>\n",
       "      <td>bot</td>\n",
       "      <td>rt RT_TOKEN must suffer one two thing pain dis...</td>\n",
       "    </tr>\n",
       "    <tr>\n",
       "      <th>3</th>\n",
       "      <td>b19731f08be7bd0632df805933a00b31</td>\n",
       "      <td>RT @Jim_Rohn_Quotes: “Happiness is not somethi...</td>\n",
       "      <td>bot</td>\n",
       "      <td>rt RT_TOKEN happiness something postpone futur...</td>\n",
       "    </tr>\n",
       "    <tr>\n",
       "      <th>4</th>\n",
       "      <td>b19731f08be7bd0632df805933a00b31</td>\n",
       "      <td>RT @Jim_Rohn_Quotes: “It is the set of the sai...</td>\n",
       "      <td>bot</td>\n",
       "      <td>rt RT_TOKEN set sail direction wind determines...</td>\n",
       "    </tr>\n",
       "    <tr>\n",
       "      <th>...</th>\n",
       "      <td>...</td>\n",
       "      <td>...</td>\n",
       "      <td>...</td>\n",
       "      <td>...</td>\n",
       "    </tr>\n",
       "    <tr>\n",
       "      <th>263995</th>\n",
       "      <td>4e14afaa7e24e0498891cbe13f0213ff</td>\n",
       "      <td>I appreciate this councilman, but as someone w...</td>\n",
       "      <td>human</td>\n",
       "      <td>appreciate councilman someone involved plannin...</td>\n",
       "    </tr>\n",
       "    <tr>\n",
       "      <th>263996</th>\n",
       "      <td>4e14afaa7e24e0498891cbe13f0213ff</td>\n",
       "      <td>RT @ShaneGoldmacher: NEWS: Andrew Cuomo just a...</td>\n",
       "      <td>human</td>\n",
       "      <td>rt RT_TOKEN news andrew cuomo announced granti...</td>\n",
       "    </tr>\n",
       "    <tr>\n",
       "      <th>263997</th>\n",
       "      <td>4e14afaa7e24e0498891cbe13f0213ff</td>\n",
       "      <td>RT @ShaneGoldmacher: NEW: On his first day in ...</td>\n",
       "      <td>human</td>\n",
       "      <td>rt RT_TOKEN new first day office andrew cuomo ...</td>\n",
       "    </tr>\n",
       "    <tr>\n",
       "      <th>263998</th>\n",
       "      <td>4e14afaa7e24e0498891cbe13f0213ff</td>\n",
       "      <td>RT @brianschatz: In no particular order: I’m 4...</td>\n",
       "      <td>human</td>\n",
       "      <td>rt RT_TOKEN particular order NUM_TOKEN people ...</td>\n",
       "    </tr>\n",
       "    <tr>\n",
       "      <th>263999</th>\n",
       "      <td>4e14afaa7e24e0498891cbe13f0213ff</td>\n",
       "      <td>RT @CNN: A source close to the President says ...</td>\n",
       "      <td>human</td>\n",
       "      <td>rt RT_TOKEN source close president say still a...</td>\n",
       "    </tr>\n",
       "  </tbody>\n",
       "</table>\n",
       "<p>264000 rows × 4 columns</p>\n",
       "</div>"
      ],
      "text/plain": [
       "                                  author  \\\n",
       "0       b19731f08be7bd0632df805933a00b31   \n",
       "1       b19731f08be7bd0632df805933a00b31   \n",
       "2       b19731f08be7bd0632df805933a00b31   \n",
       "3       b19731f08be7bd0632df805933a00b31   \n",
       "4       b19731f08be7bd0632df805933a00b31   \n",
       "...                                  ...   \n",
       "263995  4e14afaa7e24e0498891cbe13f0213ff   \n",
       "263996  4e14afaa7e24e0498891cbe13f0213ff   \n",
       "263997  4e14afaa7e24e0498891cbe13f0213ff   \n",
       "263998  4e14afaa7e24e0498891cbe13f0213ff   \n",
       "263999  4e14afaa7e24e0498891cbe13f0213ff   \n",
       "\n",
       "                                                    tweet    bot  \\\n",
       "0       So, are you ready? You know what I’m talking a...    bot   \n",
       "1       Warm thanks to everyone for support and encour...    bot   \n",
       "2       RT @Jim_Rohn_Quotes: “We must all suffer one o...    bot   \n",
       "3       RT @Jim_Rohn_Quotes: “Happiness is not somethi...    bot   \n",
       "4       RT @Jim_Rohn_Quotes: “It is the set of the sai...    bot   \n",
       "...                                                   ...    ...   \n",
       "263995  I appreciate this councilman, but as someone w...  human   \n",
       "263996  RT @ShaneGoldmacher: NEWS: Andrew Cuomo just a...  human   \n",
       "263997  RT @ShaneGoldmacher: NEW: On his first day in ...  human   \n",
       "263998  RT @brianschatz: In no particular order: I’m 4...  human   \n",
       "263999  RT @CNN: A source close to the President says ...  human   \n",
       "\n",
       "                                              clean_tweet  \n",
       "0                                ready know talking ready  \n",
       "1       warm thanks everyone support encouragement jim...  \n",
       "2       rt RT_TOKEN must suffer one two thing pain dis...  \n",
       "3       rt RT_TOKEN happiness something postpone futur...  \n",
       "4       rt RT_TOKEN set sail direction wind determines...  \n",
       "...                                                   ...  \n",
       "263995  appreciate councilman someone involved plannin...  \n",
       "263996  rt RT_TOKEN news andrew cuomo announced granti...  \n",
       "263997  rt RT_TOKEN new first day office andrew cuomo ...  \n",
       "263998  rt RT_TOKEN particular order NUM_TOKEN people ...  \n",
       "263999  rt RT_TOKEN source close president say still a...  \n",
       "\n",
       "[264000 rows x 4 columns]"
      ]
     },
     "execution_count": 8,
     "metadata": {},
     "output_type": "execute_result"
    }
   ],
   "source": [
    "df_test['clean_tweet'] = df_test['tweet'].apply(lambda x: clean_text(x))\n",
    "df_test"
   ]
  },
  {
   "cell_type": "code",
   "execution_count": 9,
   "metadata": {
    "ExecuteTime": {
     "end_time": "2020-05-12T05:34:30.166663Z",
     "start_time": "2020-05-12T05:34:30.162083Z"
    }
   },
   "outputs": [],
   "source": [
    "def freq_words(x, terms = 30):\n",
    "    all_words = ' '.join([text for text in x])\n",
    "    all_words = all_words.split()\n",
    "\n",
    "    fdist = nltk.FreqDist(all_words)\n",
    "    words_df = pd.DataFrame({'word':list(fdist.keys()), 'count':list(fdist.values())})\n",
    "\n",
    "    # selecting top n most frequent words\n",
    "    d = words_df.nlargest(columns=\"count\", n = terms) \n",
    "    plt.figure(figsize=(15,terms / 5))\n",
    "    ax = sns.barplot(data=d, x= \"count\", y = \"word\", color='lightseagreen')\n",
    "    ax.set(ylabel = 'Word')\n",
    "\n",
    "    plt.show()\n",
    "    return words_df.shape[0]"
   ]
  },
  {
   "cell_type": "code",
   "execution_count": 10,
   "metadata": {
    "ExecuteTime": {
     "end_time": "2020-05-12T05:34:33.293680Z",
     "start_time": "2020-05-12T05:34:30.167892Z"
    }
   },
   "outputs": [
    {
     "data": {
      "image/png": "[encoded data removed]",
      "text/plain": [
       "<Figure size 1080x288 with 1 Axes>"
      ]
     },
     "metadata": {
      "needs_background": "light"
     },
     "output_type": "display_data"
    },
    {
     "name": "stdout",
     "output_type": "stream",
     "text": [
      "Number of distinct words in dataset: 131523\n"
     ]
    }
   ],
   "source": [
    "# print 20 most frequent words, with URL_TOKEN\n",
    "size = freq_words(df_train['clean_tweet'], 20)\n",
    "print(f\"Number of distinct words in dataset: {size}\")"
   ]
  },
  {
   "cell_type": "code",
   "execution_count": 11,
   "metadata": {
    "ExecuteTime": {
     "end_time": "2020-05-11T16:34:00.199832Z",
     "start_time": "2020-05-11T16:31:11.113267Z"
    }
   },
   "outputs": [
    {
     "data": {
      "image/png": "[encoded data removed]",
      "text/plain": [
       "<Figure size 1080x288 with 1 Axes>"
      ]
     },
     "metadata": {
      "needs_background": "light"
     },
     "output_type": "display_data"
    },
    {
     "name": "stdout",
     "output_type": "stream",
     "text": [
      "Number of distinct words in dataset: 131523\n"
     ]
    }
   ],
   "source": [
    "# print 20 most frequent words\n",
    "size = freq_words(df_train['clean_tweet'], 20)\n",
    "print(f\"Number of distinct words in dataset: {size}\")"
   ]
  },
  {
   "cell_type": "code",
   "execution_count": 12,
   "metadata": {
    "ExecuteTime": {
     "end_time": "2020-05-12T07:03:05.630150Z",
     "start_time": "2020-05-12T07:02:39.395331Z"
    }
   },
   "outputs": [],
   "source": [
    "df_train.to_pickle(\"./pan19_df_clean_train_feateng.pkl\")"
   ]
  },
  {
   "cell_type": "code",
   "execution_count": 13,
   "metadata": {
    "ExecuteTime": {
     "end_time": "2020-05-12T07:03:16.593421Z",
     "start_time": "2020-05-12T07:03:05.854093Z"
    }
   },
   "outputs": [],
   "source": [
    "df_test.to_pickle(\"./pan19_df_clean_test_feateng.pkl\")"
   ]
  },
  {
   "cell_type": "code",
   "execution_count": null,
   "metadata": {},
   "outputs": [],
   "source": []
  }
 ],
 "metadata": {
  "kernelspec": {
   "display_name": "Python 3",
   "language": "python",
   "name": "python3"
  },
  "language_info": {
   "codemirror_mode": {
    "name": "ipython",
    "version": 3
   },
   "file_extension": ".py",
   "mimetype": "text/x-python",
   "name": "python",
   "nbconvert_exporter": "python",
   "pygments_lexer": "ipython3",
   "version": "3.8.2"
  }
 },
 "nbformat": 4,
 "nbformat_minor": 2
}
