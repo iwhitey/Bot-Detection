{
 "cells": [
  {
   "cell_type": "markdown",
   "metadata": {},
   "source": [
    "## Bots and Gender Profiling\n",
    "https://pan.webis.de/clef19/pan19-web/author-profiling.html"
   ]
  },
  {
   "cell_type": "markdown",
   "metadata": {
    "ExecuteTime": {
     "end_time": "2020-05-11T11:35:11.045781Z",
     "start_time": "2020-05-11T11:35:11.013224Z"
    }
   },
   "source": [
    "####  data preprocessing"
   ]
  },
  {
   "cell_type": "code",
   "execution_count": 1,
   "metadata": {
    "ExecuteTime": {
     "end_time": "2020-05-12T08:00:34.484869Z",
     "start_time": "2020-05-12T08:00:30.765644Z"
    }
   },
   "outputs": [
    {
     "name": "stderr",
     "output_type": "stream",
     "text": [
      "[nltk_data] Downloading package punkt to /Users/ianic/nltk_data...\n",
      "[nltk_data]   Package punkt is already up-to-date!\n",
      "[nltk_data] Downloading package stopwords to /Users/ianic/nltk_data...\n",
      "[nltk_data]   Package stopwords is already up-to-date!\n",
      "[nltk_data] Downloading package wordnet to /Users/ianic/nltk_data...\n",
      "[nltk_data]   Package wordnet is already up-to-date!\n"
     ]
    },
    {
     "data": {
      "text/plain": [
       "True"
      ]
     },
     "execution_count": 1,
     "metadata": {},
     "output_type": "execute_result"
    }
   ],
   "source": [
    "import ssl\n",
    "import html\n",
    "import IPython\n",
    "import matplotlib.pyplot as plt\n",
    "import nltk\n",
    "import os\n",
    "import pandas as pd\n",
    "import re\n",
    "import seaborn as sns\n",
    "import sys\n",
    "import xml.etree.ElementTree as ElementTree\n",
    "\n",
    "from dataset import Dataset\n",
    "from itertools import zip_longest\n",
    "from nltk.corpus import stopwords\n",
    "from nltk.tokenize import TweetTokenizer\n",
    "from nltk.stem import WordNetLemmatizer\n",
    "from pathlib import Path\n",
    "\n",
    "# https://stackoverflow.com/questions/38916452/nltk-download-ssl-certificate-verify-failed\n",
    "try:\n",
    "    _create_unverified_https_context = ssl._create_unverified_context\n",
    "except AttributeError:\n",
    "    pass\n",
    "else:\n",
    "    ssl._create_default_https_context = _create_unverified_https_context\n",
    "\n",
    "#tokenizer\n",
    "nltk.download('punkt')\n",
    "#stopwords\n",
    "nltk.download('stopwords')\n",
    "#lemmatizer\n",
    "nltk.download('wordnet')"
   ]
  },
  {
   "cell_type": "code",
   "execution_count": 2,
   "metadata": {
    "ExecuteTime": {
     "end_time": "2020-05-12T08:00:44.797380Z",
     "start_time": "2020-05-12T08:00:38.180895Z"
    }
   },
   "outputs": [
    {
     "name": "stdout",
     "output_type": "stream",
     "text": [
      "4120 4120\n",
      "2640 2640\n"
     ]
    }
   ],
   "source": [
    "dataset = Dataset(Path(\"/Users/ianic/Documents/pan19/pan19-author-profiling-training-2019-02-18/en\"),\n",
    "  Path(\"/Users/ianic/Documents/pan19/pan19-author-profiling-training-2019-02-18/en_labels/truth.txt\"),\n",
    "  Path(\"/Users/ianic/Documents/pan19/pan19-author-profiling-test-2019-04-29/en\"),\n",
    "  Path(\"/Users/ianic/Documents/pan19/pan19-author-profiling-test-2019-04-29/truth.txt\"))\n",
    "\n",
    "xtrain, ytrain, xtest, ytest = dataset.get_data()\n",
    "print(len(xtrain), len(ytrain))\n",
    "print(len(xtest), len(ytest))"
   ]
  },
  {
   "cell_type": "code",
   "execution_count": 3,
   "metadata": {
    "ExecuteTime": {
     "end_time": "2020-05-12T05:18:50.832715Z",
     "start_time": "2020-05-12T05:18:50.273928Z"
    }
   },
   "outputs": [
    {
     "name": "stdout",
     "output_type": "stream",
     "text": [
      "train size: (412000, 3), test size: (264000, 3)\n"
     ]
    }
   ],
   "source": [
    "d = {'author': [], 'tweet': [], 'bot': []}\n",
    "for author in xtrain:\n",
    "    for tweet in xtrain[author]:\n",
    "        d['author'].append(author)\n",
    "        d['tweet'].append(tweet)\n",
    "        d['bot'].append(ytrain[author][0])\n",
    "\n",
    "df_train = pd.DataFrame(d, columns=['author', 'tweet', 'bot'])\n",
    "\n",
    "d = {'author': [], 'tweet': [], 'bot': []}\n",
    "for author in xtest:\n",
    "    for tweet in xtest[author]:\n",
    "        d['author'].append(author)\n",
    "        d['tweet'].append(tweet)\n",
    "        d['bot'].append(ytest[author][0])\n",
    "\n",
    "df_test = pd.DataFrame(d, columns=['author', 'tweet', 'bot'])\n",
    "\n",
    "print(f\"train size: {df_train.shape}, test size: {df_test.shape}\")"
   ]
  },
  {
   "cell_type": "code",
   "execution_count": 4,
   "metadata": {
    "ExecuteTime": {
     "end_time": "2020-05-12T05:18:50.942806Z",
     "start_time": "2020-05-12T05:18:50.834360Z"
    }
   },
   "outputs": [
    {
     "name": "stdout",
     "output_type": "stream",
     "text": [
      "df size: (676000, 3)\n"
     ]
    },
    {
     "data": {
      "text/html": [
       "<div>\n",
       "<style scoped>\n",
       "    .dataframe tbody tr th:only-of-type {\n",
       "        vertical-align: middle;\n",
       "    }\n",
       "\n",
       "    .dataframe tbody tr th {\n",
       "        vertical-align: top;\n",
       "    }\n",
       "\n",
       "    .dataframe thead th {\n",
       "        text-align: right;\n",
       "    }\n",
       "</style>\n",
       "<table border=\"1\" class=\"dataframe\">\n",
       "  <thead>\n",
       "    <tr style=\"text-align: right;\">\n",
       "      <th></th>\n",
       "      <th>author</th>\n",
       "      <th>tweet</th>\n",
       "      <th>bot</th>\n",
       "    </tr>\n",
       "  </thead>\n",
       "  <tbody>\n",
       "    <tr>\n",
       "      <th>0</th>\n",
       "      <td>7fbb9ceb600ebc6fcadc9ee235cda580</td>\n",
       "      <td>During a brief chat, Hope Hicks accidentally c...</td>\n",
       "      <td>bot</td>\n",
       "    </tr>\n",
       "    <tr>\n",
       "      <th>1</th>\n",
       "      <td>7fbb9ceb600ebc6fcadc9ee235cda580</td>\n",
       "      <td>Sighing deeply, Lamar Smith informs President ...</td>\n",
       "      <td>bot</td>\n",
       "    </tr>\n",
       "    <tr>\n",
       "      <th>2</th>\n",
       "      <td>7fbb9ceb600ebc6fcadc9ee235cda580</td>\n",
       "      <td>At a playground, Stephen Miller mistakenly tel...</td>\n",
       "      <td>bot</td>\n",
       "    </tr>\n",
       "    <tr>\n",
       "      <th>3</th>\n",
       "      <td>7fbb9ceb600ebc6fcadc9ee235cda580</td>\n",
       "      <td>On the South Lawn, Louie Gohmert persuades Jef...</td>\n",
       "      <td>bot</td>\n",
       "    </tr>\n",
       "    <tr>\n",
       "      <th>4</th>\n",
       "      <td>7fbb9ceb600ebc6fcadc9ee235cda580</td>\n",
       "      <td>In the West Wing, Sean Spicer boldly informs K...</td>\n",
       "      <td>bot</td>\n",
       "    </tr>\n",
       "    <tr>\n",
       "      <th>...</th>\n",
       "      <td>...</td>\n",
       "      <td>...</td>\n",
       "      <td>...</td>\n",
       "    </tr>\n",
       "    <tr>\n",
       "      <th>263995</th>\n",
       "      <td>5b08ce74a6faab9dce6fb2ca6b1a3a45</td>\n",
       "      <td>My goodness, Boys #raptors</td>\n",
       "      <td>human</td>\n",
       "    </tr>\n",
       "    <tr>\n",
       "      <th>263996</th>\n",
       "      <td>5b08ce74a6faab9dce6fb2ca6b1a3a45</td>\n",
       "      <td>Denim. All. The. Time. https://t.co/Bc9EHH21BD</td>\n",
       "      <td>human</td>\n",
       "    </tr>\n",
       "    <tr>\n",
       "      <th>263997</th>\n",
       "      <td>5b08ce74a6faab9dce6fb2ca6b1a3a45</td>\n",
       "      <td>BIG COOOOOWS https://t.co/rR5MqOU7ux</td>\n",
       "      <td>human</td>\n",
       "    </tr>\n",
       "    <tr>\n",
       "      <th>263998</th>\n",
       "      <td>5b08ce74a6faab9dce6fb2ca6b1a3a45</td>\n",
       "      <td>RT @evilbmcats: I am the bringer of sorrow. I ...</td>\n",
       "      <td>human</td>\n",
       "    </tr>\n",
       "    <tr>\n",
       "      <th>263999</th>\n",
       "      <td>5b08ce74a6faab9dce6fb2ca6b1a3a45</td>\n",
       "      <td>RT @NANComms: Our release supporting youth ral...</td>\n",
       "      <td>human</td>\n",
       "    </tr>\n",
       "  </tbody>\n",
       "</table>\n",
       "<p>676000 rows × 3 columns</p>\n",
       "</div>"
      ],
      "text/plain": [
       "                                  author  \\\n",
       "0       7fbb9ceb600ebc6fcadc9ee235cda580   \n",
       "1       7fbb9ceb600ebc6fcadc9ee235cda580   \n",
       "2       7fbb9ceb600ebc6fcadc9ee235cda580   \n",
       "3       7fbb9ceb600ebc6fcadc9ee235cda580   \n",
       "4       7fbb9ceb600ebc6fcadc9ee235cda580   \n",
       "...                                  ...   \n",
       "263995  5b08ce74a6faab9dce6fb2ca6b1a3a45   \n",
       "263996  5b08ce74a6faab9dce6fb2ca6b1a3a45   \n",
       "263997  5b08ce74a6faab9dce6fb2ca6b1a3a45   \n",
       "263998  5b08ce74a6faab9dce6fb2ca6b1a3a45   \n",
       "263999  5b08ce74a6faab9dce6fb2ca6b1a3a45   \n",
       "\n",
       "                                                    tweet    bot  \n",
       "0       During a brief chat, Hope Hicks accidentally c...    bot  \n",
       "1       Sighing deeply, Lamar Smith informs President ...    bot  \n",
       "2       At a playground, Stephen Miller mistakenly tel...    bot  \n",
       "3       On the South Lawn, Louie Gohmert persuades Jef...    bot  \n",
       "4       In the West Wing, Sean Spicer boldly informs K...    bot  \n",
       "...                                                   ...    ...  \n",
       "263995                         My goodness, Boys #raptors  human  \n",
       "263996     Denim. All. The. Time. https://t.co/Bc9EHH21BD  human  \n",
       "263997               BIG COOOOOWS https://t.co/rR5MqOU7ux  human  \n",
       "263998  RT @evilbmcats: I am the bringer of sorrow. I ...  human  \n",
       "263999  RT @NANComms: Our release supporting youth ral...  human  \n",
       "\n",
       "[676000 rows x 3 columns]"
      ]
     },
     "execution_count": 4,
     "metadata": {},
     "output_type": "execute_result"
    }
   ],
   "source": [
    "# complete dataset\n",
    "df = pd.concat([df_train, df_test])\n",
    "print(f\"df size: {df.shape}\")\n",
    "df"
   ]
  },
  {
   "cell_type": "code",
   "execution_count": 5,
   "metadata": {
    "ExecuteTime": {
     "end_time": "2020-05-12T05:18:51.712293Z",
     "start_time": "2020-05-12T05:18:50.945582Z"
    }
   },
   "outputs": [
    {
     "data": {
      "text/plain": [
       "<matplotlib.axes._subplots.AxesSubplot at 0x7fc766896a50>"
      ]
     },
     "execution_count": 5,
     "metadata": {},
     "output_type": "execute_result"
    },
    {
     "data": {
      "image/png": "[encoded data removed]",
      "text/plain": [
       "<Figure size 432x288 with 1 Axes>"
      ]
     },
     "metadata": {
      "needs_background": "light"
     },
     "output_type": "display_data"
    }
   ],
   "source": [
    "sns.countplot(df['bot'])"
   ]
  },
  {
   "cell_type": "markdown",
   "metadata": {},
   "source": [
    "## Preproc"
   ]
  },
  {
   "cell_type": "code",
   "execution_count": 3,
   "metadata": {
    "ExecuteTime": {
     "end_time": "2020-05-12T08:27:08.639495Z",
     "start_time": "2020-05-12T08:27:08.004443Z"
    }
   },
   "outputs": [],
   "source": [
    "tokenizer = TweetTokenizer()\n",
    "lemmatizer = WordNetLemmatizer() \n",
    "\n",
    "def replace_num_token(text, replace_with = ''):\n",
    "    \"\"\" Replace all numbers with a unique token.\n",
    "    \"\"\"\n",
    "    text = re.sub(r\"\\d+\", replace_with, text).strip()\n",
    "    return text\n",
    "\n",
    "def clean_text(text):    \n",
    "    # lowercase \n",
    "    text = text.lower()\n",
    "    \n",
    "    # remove urls\n",
    "    text = re.sub(r\"http\\S+|www\\S+|https\\S+\", 'URL_TOKEN', text, flags=re.MULTILINE)\n",
    "    \n",
    "    # maybe strip tags\n",
    "    text = re.sub(r'\\@\\w+|\\#','', text)\n",
    "    \n",
    "    # strip html tags\n",
    "    text = html.unescape(text)\n",
    "    \n",
    "    # remove non-words\n",
    "    text = re.sub('\\W', ' ', text)\n",
    "    \n",
    "    # remove single chars\n",
    "    text = re.sub(r'(?:^| )\\w(?:$| )', ' ', text)\n",
    "    \n",
    "    # replace numbers with NUM_TOKEN\n",
    "    text = replace_num_token(text, 'NUM_TOKEN')\n",
    "    \n",
    "    # tokenize\n",
    "    tokenized = tokenizer.tokenize(text)\n",
    "    tokenized = list(map(lambda x : lemmatizer.lemmatize(x), tokenized))\n",
    "\n",
    "    # remove stopwords\n",
    "    words = [w for w in tokenized if not w in stopwords.words('english')]\n",
    "\n",
    "    return \" \".join(words)\n",
    "  "
   ]
  },
  {
   "cell_type": "code",
   "execution_count": 10,
   "metadata": {
    "ExecuteTime": {
     "end_time": "2020-05-12T05:28:45.922231Z",
     "start_time": "2020-05-12T05:19:44.155332Z"
    },
    "scrolled": false
   },
   "outputs": [
    {
     "data": {
      "text/html": [
       "<div>\n",
       "<style scoped>\n",
       "    .dataframe tbody tr th:only-of-type {\n",
       "        vertical-align: middle;\n",
       "    }\n",
       "\n",
       "    .dataframe tbody tr th {\n",
       "        vertical-align: top;\n",
       "    }\n",
       "\n",
       "    .dataframe thead th {\n",
       "        text-align: right;\n",
       "    }\n",
       "</style>\n",
       "<table border=\"1\" class=\"dataframe\">\n",
       "  <thead>\n",
       "    <tr style=\"text-align: right;\">\n",
       "      <th></th>\n",
       "      <th>author</th>\n",
       "      <th>tweet</th>\n",
       "      <th>bot</th>\n",
       "      <th>clean_tweet</th>\n",
       "    </tr>\n",
       "  </thead>\n",
       "  <tbody>\n",
       "    <tr>\n",
       "      <th>0</th>\n",
       "      <td>7fbb9ceb600ebc6fcadc9ee235cda580</td>\n",
       "      <td>During a brief chat, Hope Hicks accidentally c...</td>\n",
       "      <td>bot</td>\n",
       "      <td>brief chat hope hick accidentally convinces pr...</td>\n",
       "    </tr>\n",
       "    <tr>\n",
       "      <th>1</th>\n",
       "      <td>7fbb9ceb600ebc6fcadc9ee235cda580</td>\n",
       "      <td>Sighing deeply, Lamar Smith informs President ...</td>\n",
       "      <td>bot</td>\n",
       "      <td>sighing deeply lamar smith informs president t...</td>\n",
       "    </tr>\n",
       "    <tr>\n",
       "      <th>2</th>\n",
       "      <td>7fbb9ceb600ebc6fcadc9ee235cda580</td>\n",
       "      <td>At a playground, Stephen Miller mistakenly tel...</td>\n",
       "      <td>bot</td>\n",
       "      <td>playground stephen miller mistakenly tell bets...</td>\n",
       "    </tr>\n",
       "    <tr>\n",
       "      <th>3</th>\n",
       "      <td>7fbb9ceb600ebc6fcadc9ee235cda580</td>\n",
       "      <td>On the South Lawn, Louie Gohmert persuades Jef...</td>\n",
       "      <td>bot</td>\n",
       "      <td>south lawn louie gohmert persuades jeff sessio...</td>\n",
       "    </tr>\n",
       "    <tr>\n",
       "      <th>4</th>\n",
       "      <td>7fbb9ceb600ebc6fcadc9ee235cda580</td>\n",
       "      <td>In the West Wing, Sean Spicer boldly informs K...</td>\n",
       "      <td>bot</td>\n",
       "      <td>west wing sean spicer boldly informs kellyanne...</td>\n",
       "    </tr>\n",
       "    <tr>\n",
       "      <th>...</th>\n",
       "      <td>...</td>\n",
       "      <td>...</td>\n",
       "      <td>...</td>\n",
       "      <td>...</td>\n",
       "    </tr>\n",
       "    <tr>\n",
       "      <th>411995</th>\n",
       "      <td>b58ced882574852ce6dcc055256d4767</td>\n",
       "      <td>RT @BRK_B: #Apple, @Google, Berkshire: The Sto...</td>\n",
       "      <td>bot</td>\n",
       "      <td>rt apple berkshire stock investor want christm...</td>\n",
       "    </tr>\n",
       "    <tr>\n",
       "      <th>411996</th>\n",
       "      <td>b58ced882574852ce6dcc055256d4767</td>\n",
       "      <td>$BRK.B - Berkshire Hathaway Stock Analysis - b...</td>\n",
       "      <td>bot</td>\n",
       "      <td>brk berkshire hathaway stock analysis bullish ...</td>\n",
       "    </tr>\n",
       "    <tr>\n",
       "      <th>411997</th>\n",
       "      <td>b58ced882574852ce6dcc055256d4767</td>\n",
       "      <td>RT @BRK_B: #Apple, @Google, Berkshire: The Sto...</td>\n",
       "      <td>bot</td>\n",
       "      <td>rt apple berkshire stock investor want christm...</td>\n",
       "    </tr>\n",
       "    <tr>\n",
       "      <th>411998</th>\n",
       "      <td>b58ced882574852ce6dcc055256d4767</td>\n",
       "      <td>RT @BRK_B: #Apple, @Google, Berkshire: The Sto...</td>\n",
       "      <td>bot</td>\n",
       "      <td>rt apple berkshire stock investor want christm...</td>\n",
       "    </tr>\n",
       "    <tr>\n",
       "      <th>411999</th>\n",
       "      <td>b58ced882574852ce6dcc055256d4767</td>\n",
       "      <td>RT @BRK_B: #Apple, @Google, Berkshire: The Sto...</td>\n",
       "      <td>bot</td>\n",
       "      <td>rt apple berkshire stock investor want christm...</td>\n",
       "    </tr>\n",
       "  </tbody>\n",
       "</table>\n",
       "<p>412000 rows × 4 columns</p>\n",
       "</div>"
      ],
      "text/plain": [
       "                                  author  \\\n",
       "0       7fbb9ceb600ebc6fcadc9ee235cda580   \n",
       "1       7fbb9ceb600ebc6fcadc9ee235cda580   \n",
       "2       7fbb9ceb600ebc6fcadc9ee235cda580   \n",
       "3       7fbb9ceb600ebc6fcadc9ee235cda580   \n",
       "4       7fbb9ceb600ebc6fcadc9ee235cda580   \n",
       "...                                  ...   \n",
       "411995  b58ced882574852ce6dcc055256d4767   \n",
       "411996  b58ced882574852ce6dcc055256d4767   \n",
       "411997  b58ced882574852ce6dcc055256d4767   \n",
       "411998  b58ced882574852ce6dcc055256d4767   \n",
       "411999  b58ced882574852ce6dcc055256d4767   \n",
       "\n",
       "                                                    tweet  bot  \\\n",
       "0       During a brief chat, Hope Hicks accidentally c...  bot   \n",
       "1       Sighing deeply, Lamar Smith informs President ...  bot   \n",
       "2       At a playground, Stephen Miller mistakenly tel...  bot   \n",
       "3       On the South Lawn, Louie Gohmert persuades Jef...  bot   \n",
       "4       In the West Wing, Sean Spicer boldly informs K...  bot   \n",
       "...                                                   ...  ...   \n",
       "411995  RT @BRK_B: #Apple, @Google, Berkshire: The Sto...  bot   \n",
       "411996  $BRK.B - Berkshire Hathaway Stock Analysis - b...  bot   \n",
       "411997  RT @BRK_B: #Apple, @Google, Berkshire: The Sto...  bot   \n",
       "411998  RT @BRK_B: #Apple, @Google, Berkshire: The Sto...  bot   \n",
       "411999  RT @BRK_B: #Apple, @Google, Berkshire: The Sto...  bot   \n",
       "\n",
       "                                              clean_tweet  \n",
       "0       brief chat hope hick accidentally convinces pr...  \n",
       "1       sighing deeply lamar smith informs president t...  \n",
       "2       playground stephen miller mistakenly tell bets...  \n",
       "3       south lawn louie gohmert persuades jeff sessio...  \n",
       "4       west wing sean spicer boldly informs kellyanne...  \n",
       "...                                                   ...  \n",
       "411995  rt apple berkshire stock investor want christm...  \n",
       "411996  brk berkshire hathaway stock analysis bullish ...  \n",
       "411997  rt apple berkshire stock investor want christm...  \n",
       "411998  rt apple berkshire stock investor want christm...  \n",
       "411999  rt apple berkshire stock investor want christm...  \n",
       "\n",
       "[412000 rows x 4 columns]"
      ]
     },
     "execution_count": 10,
     "metadata": {},
     "output_type": "execute_result"
    }
   ],
   "source": [
    "df_train['clean_tweet'] = df_train['tweet'].apply(lambda x: clean_text(x))\n",
    "df_train"
   ]
  },
  {
   "cell_type": "code",
   "execution_count": 11,
   "metadata": {
    "ExecuteTime": {
     "end_time": "2020-05-12T05:34:30.160605Z",
     "start_time": "2020-05-12T05:28:45.923616Z"
    },
    "scrolled": false
   },
   "outputs": [
    {
     "data": {
      "text/html": [
       "<div>\n",
       "<style scoped>\n",
       "    .dataframe tbody tr th:only-of-type {\n",
       "        vertical-align: middle;\n",
       "    }\n",
       "\n",
       "    .dataframe tbody tr th {\n",
       "        vertical-align: top;\n",
       "    }\n",
       "\n",
       "    .dataframe thead th {\n",
       "        text-align: right;\n",
       "    }\n",
       "</style>\n",
       "<table border=\"1\" class=\"dataframe\">\n",
       "  <thead>\n",
       "    <tr style=\"text-align: right;\">\n",
       "      <th></th>\n",
       "      <th>author</th>\n",
       "      <th>tweet</th>\n",
       "      <th>bot</th>\n",
       "      <th>clean_tweet</th>\n",
       "    </tr>\n",
       "  </thead>\n",
       "  <tbody>\n",
       "    <tr>\n",
       "      <th>0</th>\n",
       "      <td>8858698352752082c81d1d32b999e1e</td>\n",
       "      <td>When your phone keeps autocorrecting tour to y...</td>\n",
       "      <td>human</td>\n",
       "      <td>phone keep autocorrecting tour</td>\n",
       "    </tr>\n",
       "    <tr>\n",
       "      <th>1</th>\n",
       "      <td>8858698352752082c81d1d32b999e1e</td>\n",
       "      <td>On a day like this get this in your ears!! #is...</td>\n",
       "      <td>human</td>\n",
       "      <td>day like get ear isleybrothers summerbreeze UR...</td>\n",
       "    </tr>\n",
       "    <tr>\n",
       "      <th>2</th>\n",
       "      <td>8858698352752082c81d1d32b999e1e</td>\n",
       "      <td>A glorious day in London! 😎☀️</td>\n",
       "      <td>human</td>\n",
       "      <td>glorious day london</td>\n",
       "    </tr>\n",
       "    <tr>\n",
       "      <th>3</th>\n",
       "      <td>8858698352752082c81d1d32b999e1e</td>\n",
       "      <td>@JHChristEsq nice job in GOT dude :)</td>\n",
       "      <td>human</td>\n",
       "      <td>nice job got dude</td>\n",
       "    </tr>\n",
       "    <tr>\n",
       "      <th>4</th>\n",
       "      <td>8858698352752082c81d1d32b999e1e</td>\n",
       "      <td>@nategroove what!!!</td>\n",
       "      <td>human</td>\n",
       "      <td></td>\n",
       "    </tr>\n",
       "    <tr>\n",
       "      <th>...</th>\n",
       "      <td>...</td>\n",
       "      <td>...</td>\n",
       "      <td>...</td>\n",
       "      <td>...</td>\n",
       "    </tr>\n",
       "    <tr>\n",
       "      <th>263995</th>\n",
       "      <td>5b08ce74a6faab9dce6fb2ca6b1a3a45</td>\n",
       "      <td>My goodness, Boys #raptors</td>\n",
       "      <td>human</td>\n",
       "      <td>goodness boy raptor</td>\n",
       "    </tr>\n",
       "    <tr>\n",
       "      <th>263996</th>\n",
       "      <td>5b08ce74a6faab9dce6fb2ca6b1a3a45</td>\n",
       "      <td>Denim. All. The. Time. https://t.co/Bc9EHH21BD</td>\n",
       "      <td>human</td>\n",
       "      <td>denim time URL_TOKEN</td>\n",
       "    </tr>\n",
       "    <tr>\n",
       "      <th>263997</th>\n",
       "      <td>5b08ce74a6faab9dce6fb2ca6b1a3a45</td>\n",
       "      <td>BIG COOOOOWS https://t.co/rR5MqOU7ux</td>\n",
       "      <td>human</td>\n",
       "      <td>big cooooows URL_TOKEN</td>\n",
       "    </tr>\n",
       "    <tr>\n",
       "      <th>263998</th>\n",
       "      <td>5b08ce74a6faab9dce6fb2ca6b1a3a45</td>\n",
       "      <td>RT @evilbmcats: I am the bringer of sorrow. I ...</td>\n",
       "      <td>human</td>\n",
       "      <td>rt bringer sorrow harbinger death true terror ...</td>\n",
       "    </tr>\n",
       "    <tr>\n",
       "      <th>263999</th>\n",
       "      <td>5b08ce74a6faab9dce6fb2ca6b1a3a45</td>\n",
       "      <td>RT @NANComms: Our release supporting youth ral...</td>\n",
       "      <td>human</td>\n",
       "      <td>rt release supporting youth rallying ford gove...</td>\n",
       "    </tr>\n",
       "  </tbody>\n",
       "</table>\n",
       "<p>264000 rows × 4 columns</p>\n",
       "</div>"
      ],
      "text/plain": [
       "                                  author  \\\n",
       "0        8858698352752082c81d1d32b999e1e   \n",
       "1        8858698352752082c81d1d32b999e1e   \n",
       "2        8858698352752082c81d1d32b999e1e   \n",
       "3        8858698352752082c81d1d32b999e1e   \n",
       "4        8858698352752082c81d1d32b999e1e   \n",
       "...                                  ...   \n",
       "263995  5b08ce74a6faab9dce6fb2ca6b1a3a45   \n",
       "263996  5b08ce74a6faab9dce6fb2ca6b1a3a45   \n",
       "263997  5b08ce74a6faab9dce6fb2ca6b1a3a45   \n",
       "263998  5b08ce74a6faab9dce6fb2ca6b1a3a45   \n",
       "263999  5b08ce74a6faab9dce6fb2ca6b1a3a45   \n",
       "\n",
       "                                                    tweet    bot  \\\n",
       "0       When your phone keeps autocorrecting tour to y...  human   \n",
       "1       On a day like this get this in your ears!! #is...  human   \n",
       "2                           A glorious day in London! 😎☀️  human   \n",
       "3                    @JHChristEsq nice job in GOT dude :)  human   \n",
       "4                                     @nategroove what!!!  human   \n",
       "...                                                   ...    ...   \n",
       "263995                         My goodness, Boys #raptors  human   \n",
       "263996     Denim. All. The. Time. https://t.co/Bc9EHH21BD  human   \n",
       "263997               BIG COOOOOWS https://t.co/rR5MqOU7ux  human   \n",
       "263998  RT @evilbmcats: I am the bringer of sorrow. I ...  human   \n",
       "263999  RT @NANComms: Our release supporting youth ral...  human   \n",
       "\n",
       "                                              clean_tweet  \n",
       "0                          phone keep autocorrecting tour  \n",
       "1       day like get ear isleybrothers summerbreeze UR...  \n",
       "2                                     glorious day london  \n",
       "3                                       nice job got dude  \n",
       "4                                                          \n",
       "...                                                   ...  \n",
       "263995                                goodness boy raptor  \n",
       "263996                               denim time URL_TOKEN  \n",
       "263997                             big cooooows URL_TOKEN  \n",
       "263998  rt bringer sorrow harbinger death true terror ...  \n",
       "263999  rt release supporting youth rallying ford gove...  \n",
       "\n",
       "[264000 rows x 4 columns]"
      ]
     },
     "execution_count": 11,
     "metadata": {},
     "output_type": "execute_result"
    }
   ],
   "source": [
    "df_test['clean_tweet'] = df_test['tweet'].apply(lambda x: clean_text(x))\n",
    "df_test"
   ]
  },
  {
   "cell_type": "code",
   "execution_count": 12,
   "metadata": {
    "ExecuteTime": {
     "end_time": "2020-05-12T05:34:30.166663Z",
     "start_time": "2020-05-12T05:34:30.162083Z"
    }
   },
   "outputs": [],
   "source": [
    "def freq_words(x, terms = 30):\n",
    "    all_words = ' '.join([text for text in x])\n",
    "    all_words = all_words.split()\n",
    "\n",
    "    fdist = nltk.FreqDist(all_words)\n",
    "    words_df = pd.DataFrame({'word':list(fdist.keys()), 'count':list(fdist.values())})\n",
    "\n",
    "    # selecting top n most frequent words\n",
    "    d = words_df.nlargest(columns=\"count\", n = terms) \n",
    "    plt.figure(figsize=(15,terms / 5))\n",
    "    ax = sns.barplot(data=d, x= \"count\", y = \"word\", color='lightseagreen')\n",
    "    ax.set(ylabel = 'Word')\n",
    "\n",
    "    plt.show()\n",
    "    return words_df.shape[0]"
   ]
  },
  {
   "cell_type": "code",
   "execution_count": 13,
   "metadata": {
    "ExecuteTime": {
     "end_time": "2020-05-12T05:34:33.293680Z",
     "start_time": "2020-05-12T05:34:30.167892Z"
    }
   },
   "outputs": [
    {
     "data": {
      "image/png": "[encoded data removed]",
      "text/plain": [
       "<Figure size 1080x288 with 1 Axes>"
      ]
     },
     "metadata": {
      "needs_background": "light"
     },
     "output_type": "display_data"
    },
    {
     "name": "stdout",
     "output_type": "stream",
     "text": [
      "Number of distinct words in dataset: 122976\n"
     ]
    }
   ],
   "source": [
    "# print 20 most frequent words, with URL_TOKEN\n",
    "size = freq_words(df_train['clean_tweet'], 20)\n",
    "print(f\"Number of distinct words in dataset: {size}\")"
   ]
  },
  {
   "cell_type": "code",
   "execution_count": 48,
   "metadata": {
    "ExecuteTime": {
     "end_time": "2020-05-11T16:34:00.199832Z",
     "start_time": "2020-05-11T16:31:11.113267Z"
    }
   },
   "outputs": [
    {
     "data": {
      "image/png": "[encoded data removed]",
      "text/plain": [
       "<Figure size 1080x288 with 1 Axes>"
      ]
     },
     "metadata": {},
     "output_type": "display_data"
    },
    {
     "name": "stdout",
     "output_type": "stream",
     "text": [
      "Number of distinct words in dataset: 201578\n"
     ]
    }
   ],
   "source": [
    "# print 20 most frequent words\n",
    "size = freq_words(df_train['clean_tweet'], 20)\n",
    "print(f\"Number of distinct words in dataset: {size}\")"
   ]
  },
  {
   "cell_type": "code",
   "execution_count": 14,
   "metadata": {
    "ExecuteTime": {
     "end_time": "2020-05-12T07:03:05.630150Z",
     "start_time": "2020-05-12T07:02:39.395331Z"
    }
   },
   "outputs": [],
   "source": [
    "df_train.to_pickle(\"./pan19_df_clean_train_no_uris.pkl\")"
   ]
  },
  {
   "cell_type": "code",
   "execution_count": 15,
   "metadata": {
    "ExecuteTime": {
     "end_time": "2020-05-12T07:03:16.593421Z",
     "start_time": "2020-05-12T07:03:05.854093Z"
    }
   },
   "outputs": [],
   "source": [
    "df_test.to_pickle(\"./pan19_df_clean_test_no_uris.pkl\")"
   ]
  },
  {
   "cell_type": "code",
   "execution_count": null,
   "metadata": {},
   "outputs": [],
   "source": []
  }
 ],
 "metadata": {
  "kernelspec": {
   "display_name": "Python 3",
   "language": "python",
   "name": "python3"
  },
  "language_info": {
   "codemirror_mode": {
    "name": "ipython",
    "version": 3
   },
   "file_extension": ".py",
   "mimetype": "text/x-python",
   "name": "python",
   "nbconvert_exporter": "python",
   "pygments_lexer": "ipython3",
   "version": "3.7.4"
  }
 },
 "nbformat": 4,
 "nbformat_minor": 2
}
