{
 "cells": [
  {
   "cell_type": "markdown",
   "metadata": {},
   "source": [
    "## Bots and Gender Profiling\n",
    "https://pan.webis.de/clef19/pan19-web/author-profiling.html"
   ]
  },
  {
   "cell_type": "code",
   "execution_count": null,
   "metadata": {},
   "outputs": [],
   "source": [
    "preds, ground_truth, loss_avg = evaluate_rnn(\n",
    "    model, criterion, optimizer, dev_loader, device)"
   ]
  },
  {
   "cell_type": "code",
   "execution_count": 19,
   "metadata": {
    "ExecuteTime": {
     "end_time": "2020-06-02T09:04:48.390116Z",
     "start_time": "2020-06-02T09:04:48.382320Z"
    }
   },
   "outputs": [],
   "source": [
    "import json\n",
    "import matplotlib.pyplot as plt\n",
    "import random\n",
    "import sys\n",
    "from collections import defaultdict\n",
    "from pathlib import Path\n",
    "from time import sleep, time\n",
    "\n",
    "import IPython\n",
    "import matplotlib.pyplot as pltf\n",
    "import nltk\n",
    "import numpy as np\n",
    "import pandas as pd\n",
    "import torch\n",
    "import torch.nn\n",
    "from nltk.corpus import stopwords\n",
    "from nltk.stem import WordNetLemmatizer\n",
    "from nltk.tokenize import TweetTokenizer\n",
    "from sklearn.model_selection import train_test_split\n",
    "from torch.optim import Adam\n",
    "from torch.utils.data import DataLoader\n",
    "from tqdm import tqdm\n",
    "\n",
    "from dataset import Dataset, DatasetPyTorch, collate_fn\n",
    "from evaulate import eval_perf_binary, evaluate_rnn\n",
    "from glove import Glove\n",
    "from models import RNNModel\n",
    "from pytorchtools import EarlyStopping\n",
    "\n",
    "# nltk.download('stopwords')"
   ]
  },
  {
   "cell_type": "code",
   "execution_count": 2,
   "metadata": {
    "ExecuteTime": {
     "end_time": "2020-06-02T08:52:47.043560Z",
     "start_time": "2020-06-02T08:52:47.027079Z"
    }
   },
   "outputs": [
    {
     "name": "stdout",
     "output_type": "stream",
     "text": [
      "True\n",
      "CUDA enabled device: cuda:1\n"
     ]
    }
   ],
   "source": [
    "print(torch.cuda.is_available())\n",
    "device = torch.device('cuda:1' if torch.cuda.is_available() else 'cpu')\n",
    "print(f\"CUDA enabled device: {device}\")"
   ]
  },
  {
   "cell_type": "code",
   "execution_count": 3,
   "metadata": {
    "ExecuteTime": {
     "end_time": "2020-06-02T08:52:47.550051Z",
     "start_time": "2020-06-02T08:52:47.045798Z"
    }
   },
   "outputs": [
    {
     "name": "stdout",
     "output_type": "stream",
     "text": [
      "True\n",
      "human    50.0\n",
      "bot      50.0\n",
      "Name: bot, dtype: float64\n"
     ]
    }
   ],
   "source": [
    "_time_start = time()\n",
    "glove_path = Path('/home/ianic/tar/Bot-Detection/glove/glove.twitter.27B.50d.txt')\n",
    "bert_path_train = Path('/home/ianic/tar/Bot-Detection/bert_embeddings_train.json')\n",
    "bert_path_test = Path('/home/ianic/tar/Bot-Detection/bert_embeddings_test.json')\n",
    "\n",
    "print(glove_path.exists())\n",
    "_df_train = pd.read_pickle(\"../../pan19_df_clean_train_glove.pkl\")\n",
    "_df_test = pd.read_pickle(\"../../pan19_df_clean_test_glove.pkl\")\n",
    "\n",
    "print(_df_test['bot'].value_counts(normalize=True) * 100)"
   ]
  },
  {
   "cell_type": "code",
   "execution_count": 4,
   "metadata": {
    "ExecuteTime": {
     "end_time": "2020-06-02T08:52:47.556723Z",
     "start_time": "2020-06-02T08:52:47.552014Z"
    }
   },
   "outputs": [
    {
     "data": {
      "text/plain": [
       "412000"
      ]
     },
     "execution_count": 4,
     "metadata": {},
     "output_type": "execute_result"
    }
   ],
   "source": [
    "n_dev = 82400 # 20%\n",
    "_df_train.shape[0]"
   ]
  },
  {
   "cell_type": "code",
   "execution_count": 5,
   "metadata": {
    "ExecuteTime": {
     "end_time": "2020-06-02T08:52:47.622261Z",
     "start_time": "2020-06-02T08:52:47.558224Z"
    }
   },
   "outputs": [],
   "source": [
    "df_train = _df_train.head(-n_dev)\n",
    "df_dev = _df_train.tail(n_dev) \n",
    "df_test = _df_test"
   ]
  },
  {
   "cell_type": "code",
   "execution_count": 6,
   "metadata": {
    "ExecuteTime": {
     "end_time": "2020-06-02T08:52:48.075964Z",
     "start_time": "2020-06-02T08:52:47.623565Z"
    }
   },
   "outputs": [
    {
     "name": "stdout",
     "output_type": "stream",
     "text": [
      "<class 'pandas.core.frame.DataFrame'>\n",
      "RangeIndex: 329600 entries, 0 to 329599\n",
      "Data columns (total 4 columns):\n",
      " #   Column       Non-Null Count   Dtype \n",
      "---  ------       --------------   ----- \n",
      " 0   author       329600 non-null  object\n",
      " 1   tweet        329600 non-null  object\n",
      " 2   bot          329600 non-null  object\n",
      " 3   clean_tweet  329600 non-null  object\n",
      "dtypes: object(4)\n",
      "memory usage: 10.1+ MB\n",
      "None\n",
      "<class 'pandas.core.frame.DataFrame'>\n",
      "RangeIndex: 82400 entries, 329600 to 411999\n",
      "Data columns (total 4 columns):\n",
      " #   Column       Non-Null Count  Dtype \n",
      "---  ------       --------------  ----- \n",
      " 0   author       82400 non-null  object\n",
      " 1   tweet        82400 non-null  object\n",
      " 2   bot          82400 non-null  object\n",
      " 3   clean_tweet  82400 non-null  object\n",
      "dtypes: object(4)\n",
      "memory usage: 2.5+ MB\n",
      "None\n",
      "<class 'pandas.core.frame.DataFrame'>\n",
      "RangeIndex: 264000 entries, 0 to 263999\n",
      "Data columns (total 4 columns):\n",
      " #   Column       Non-Null Count   Dtype \n",
      "---  ------       --------------   ----- \n",
      " 0   author       264000 non-null  object\n",
      " 1   tweet        264000 non-null  object\n",
      " 2   bot          264000 non-null  object\n",
      " 3   clean_tweet  264000 non-null  object\n",
      "dtypes: object(4)\n",
      "memory usage: 8.1+ MB\n",
      "None\n"
     ]
    }
   ],
   "source": [
    "print(df_train.info())\n",
    "print(df_dev.info())\n",
    "print(df_test.info())"
   ]
  },
  {
   "cell_type": "code",
   "execution_count": 7,
   "metadata": {
    "ExecuteTime": {
     "end_time": "2020-06-02T08:52:48.111085Z",
     "start_time": "2020-06-02T08:52:48.077369Z"
    }
   },
   "outputs": [
    {
     "name": "stdout",
     "output_type": "stream",
     "text": [
      "<class 'pandas.core.frame.DataFrame'>\n",
      "RangeIndex: 82400 entries, 0 to 82399\n",
      "Data columns (total 5 columns):\n",
      " #   Column       Non-Null Count  Dtype \n",
      "---  ------       --------------  ----- \n",
      " 0   index        82400 non-null  int64 \n",
      " 1   author       82400 non-null  object\n",
      " 2   tweet        82400 non-null  object\n",
      " 3   bot          82400 non-null  object\n",
      " 4   clean_tweet  82400 non-null  object\n",
      "dtypes: int64(1), object(4)\n",
      "memory usage: 3.1+ MB\n"
     ]
    }
   ],
   "source": [
    "df_dev.reset_index(inplace=True)\n",
    "df_dev.info()"
   ]
  },
  {
   "cell_type": "markdown",
   "metadata": {},
   "source": [
    "### Subset"
   ]
  },
  {
   "cell_type": "code",
   "execution_count": 8,
   "metadata": {
    "ExecuteTime": {
     "end_time": "2020-06-02T08:52:48.120287Z",
     "start_time": "2020-06-02T08:52:48.112502Z"
    }
   },
   "outputs": [],
   "source": [
    "df_train = df_train.head(41200)\n",
    "df_dev = df_dev.head(13200)\n",
    "df_test = df_test.head(13200)"
   ]
  },
  {
   "cell_type": "code",
   "execution_count": 9,
   "metadata": {
    "ExecuteTime": {
     "end_time": "2020-06-02T08:52:48.132420Z",
     "start_time": "2020-06-02T08:52:48.122733Z"
    }
   },
   "outputs": [],
   "source": [
    "lr = 1e-4\n",
    "num_epoch = 20\n",
    "batch_size_train = 64\n",
    "batch_size_test = 32\n",
    "gradient_clip = 0.25\n",
    "torch.manual_seed(7052020)\n",
    "np.random.seed(7052020)"
   ]
  },
  {
   "cell_type": "code",
   "execution_count": 10,
   "metadata": {
    "ExecuteTime": {
     "end_time": "2020-06-02T08:52:48.143272Z",
     "start_time": "2020-06-02T08:52:48.133930Z"
    }
   },
   "outputs": [
    {
     "name": "stdout",
     "output_type": "stream",
     "text": [
      "loading data: 8.082389831542969e-05\n"
     ]
    }
   ],
   "source": [
    "_time = time()\n",
    "\n",
    "embedding_source = 'bert'\n",
    "print(f\"loading data: {time() - _time}\")"
   ]
  },
  {
   "cell_type": "code",
   "execution_count": 11,
   "metadata": {
    "ExecuteTime": {
     "end_time": "2020-06-02T08:55:10.961206Z",
     "start_time": "2020-06-02T08:52:48.144791Z"
    }
   },
   "outputs": [
    {
     "name": "stdout",
     "output_type": "stream",
     "text": [
      "Initialized train embeddings!\n"
     ]
    }
   ],
   "source": [
    "bert_dict_train = None\n",
    "with open(Path(bert_path_train), 'r') as f:\n",
    "    bert_dict_train = json.load(f)\n",
    "print(\"Initialized train embeddings!\")"
   ]
  },
  {
   "cell_type": "code",
   "execution_count": 12,
   "metadata": {
    "ExecuteTime": {
     "end_time": "2020-06-02T08:55:10.965980Z",
     "start_time": "2020-06-02T08:55:10.962990Z"
    },
    "hide_input": false
   },
   "outputs": [],
   "source": [
    "train_dataset = DatasetPyTorch(\n",
    "    dataset=df_train, embeddings=bert_dict_train,\n",
    "    embedding_source=embedding_source)\n",
    "dev_dataset = DatasetPyTorch(\n",
    "    dataset=df_dev, embeddings=bert_dict_train,\n",
    "    embedding_source=embedding_source)"
   ]
  },
  {
   "cell_type": "code",
   "execution_count": 13,
   "metadata": {
    "ExecuteTime": {
     "end_time": "2020-06-02T08:55:10.988542Z",
     "start_time": "2020-06-02T08:55:10.967389Z"
    }
   },
   "outputs": [
    {
     "name": "stdout",
     "output_type": "stream",
     "text": [
      "loading data: 142.84514117240906\n"
     ]
    }
   ],
   "source": [
    "train_loader = torch.utils.data.DataLoader(\n",
    "    train_dataset, batch_size=batch_size_train,\n",
    "    shuffle=True, num_workers=32,\n",
    "    drop_last=True, pin_memory=False)\n",
    "dev_loader = torch.utils.data.DataLoader(\n",
    "    dev_dataset, batch_size=batch_size_train,\n",
    "    shuffle=True, num_workers=32,\n",
    "    drop_last=True, pin_memory=False)\n",
    "\n",
    "print(f\"loading data: {time() - _time}\")"
   ]
  },
  {
   "cell_type": "code",
   "execution_count": 14,
   "metadata": {
    "ExecuteTime": {
     "end_time": "2020-06-02T08:55:13.709666Z",
     "start_time": "2020-06-02T08:55:10.990276Z"
    }
   },
   "outputs": [
    {
     "name": "stdout",
     "output_type": "stream",
     "text": [
      "training\n"
     ]
    }
   ],
   "source": [
    "model = RNNModel(\n",
    "    cell_type='lstm', embedding_size=DatasetPyTorch.embedding_size,\n",
    "    num_layers=2, bidirectional=False, dropout_prob=0)\n",
    "criterion = torch.nn.BCEWithLogitsLoss()\n",
    "optimizer = Adam(model.parameters(), lr=lr)\n",
    "print(\"training\")\n",
    "model = model.to(device)"
   ]
  },
  {
   "cell_type": "code",
   "execution_count": 15,
   "metadata": {
    "ExecuteTime": {
     "end_time": "2020-06-02T08:55:13.719606Z",
     "start_time": "2020-06-02T08:55:13.711443Z"
    }
   },
   "outputs": [],
   "source": [
    "def train_model(model, batch_size, patience, n_epochs):\n",
    "    train_losses = []\n",
    "    avg_train_losses = []\n",
    "    avg_dev_losses = []\n",
    "    early_stopping = EarlyStopping(patience=patience, verbose=True)\n",
    "    for epoch in range(num_epoch):\n",
    "        _time = time()\n",
    "        model.train()\n",
    "        for batch, (data, target) in enumerate(train_loader):\n",
    "            data = data.to(device, non_blocking=True)\n",
    "            labels = target.to(device, non_blocking=True)\n",
    "\n",
    "            data = torch.transpose(data, 0, 1)  # time-first format, speed gain\n",
    "            labels = labels.squeeze()\n",
    "            logits = model(data)\n",
    "\n",
    "            loss = criterion(logits, labels)\n",
    "            model.zero_grad()\n",
    "            loss.backward()\n",
    "            torch.nn.utils.clip_grad_norm_(model.parameters(), gradient_clip)\n",
    "            optimizer.step()\n",
    "\n",
    "            train_losses.append(loss.item())\n",
    "\n",
    "        print(f\"epoch time: {time() - _time}\")\n",
    "        _time = time()\n",
    "        preds, ground_truth, loss_avg = evaluate_rnn(\n",
    "            model, criterion, optimizer, dev_loader, device)\n",
    "\n",
    "        train_loss = np.mean(train_losses)\n",
    "        dev_loss = np.mean(loss_avg)\n",
    "        avg_train_losses.append(train_loss)\n",
    "        avg_dev_losses.append(dev_loss)\n",
    "        train_losses = []\n",
    "\n",
    "        accuracy, recall, precision, f1 = eval_perf_binary(preds, ground_truth)\n",
    "        print(f\"epoch: {epoch}, inference time:{time() - _time},\",\n",
    "              f\"train_loss_avg: {train_loss}, dev_loss_avg: {dev_loss}\",\n",
    "              f\"acc: {accuracy}, recall: {recall}, precision: {precision}, f1: {f1}\")\n",
    "\n",
    "        early_stopping(dev_loss, model)\n",
    "        if early_stopping.early_stop:\n",
    "            print(\"Early stopping\")\n",
    "            break\n",
    "\n",
    "    # load the last checkpoint with the best model\n",
    "    model.load_state_dict(torch.load('checkpoint.pt'))\n",
    "\n",
    "    return model, avg_train_losses, avg_dev_losses"
   ]
  },
  {
   "cell_type": "code",
   "execution_count": 16,
   "metadata": {
    "ExecuteTime": {
     "end_time": "2020-06-02T09:03:58.306007Z",
     "start_time": "2020-06-02T08:55:13.723374Z"
    }
   },
   "outputs": [
    {
     "name": "stdout",
     "output_type": "stream",
     "text": [
      "epoch time: 14.220276355743408\n",
      "epoch: 0, inference time:9.022884368896484, train_loss_avg: 0.455020797869095, dev_loss_avg: 0.45068726384813346 acc: 0.802563713592233, recall: 0.8169981399341822, precision: 0.8117713960762013, f1: 0.8143763816587035\n",
      "Validation loss decreased (inf --> 0.450687).  Saving model ...\n",
      "epoch time: 14.197968244552612\n",
      "epoch: 1, inference time:8.566611528396606, train_loss_avg: 0.3428652191282616, dev_loss_avg: 0.42455472536746736 acc: 0.818871359223301, recall: 0.7900157345158061, precision: 0.8572093745149775, f1: 0.8222420723537294\n",
      "Validation loss decreased (0.450687 --> 0.424555).  Saving model ...\n",
      "epoch time: 14.977852821350098\n",
      "epoch: 2, inference time:8.862171649932861, train_loss_avg: 0.30939017567627164, dev_loss_avg: 0.4176346638682977 acc: 0.8266080097087378, recall: 0.7947654462242563, precision: 0.8671972534332085, f1: 0.829402985074627\n",
      "Validation loss decreased (0.424555 --> 0.417635).  Saving model ...\n",
      "epoch time: 14.327699899673462\n",
      "epoch: 3, inference time:8.354765176773071, train_loss_avg: 0.2824640117852165, dev_loss_avg: 0.42330856990177657 acc: 0.8275182038834952, recall: 0.8331902718168812, precision: 0.8401615695326025, f1: 0.8366613992242494\n",
      "EarlyStopping counter: 1 out of 20\n",
      "epoch time: 15.325976371765137\n",
      "epoch: 4, inference time:9.0834059715271, train_loss_avg: 0.26460214584926794, dev_loss_avg: 0.44241329116150013 acc: 0.8218294902912622, recall: 0.7595479902732084, precision: 0.8882569421211107, f1: 0.8188757807078418\n",
      "EarlyStopping counter: 2 out of 20\n",
      "epoch time: 14.97173261642456\n",
      "epoch: 5, inference time:8.561261653900146, train_loss_avg: 0.2459881126208587, dev_loss_avg: 0.4166666914537115 acc: 0.8316140776699029, recall: 0.8614328614328615, precision: 0.828041237113402, f1: 0.8444070647603028\n",
      "Validation loss decreased (0.417635 --> 0.416667).  Saving model ...\n",
      "epoch time: 14.459263324737549\n",
      "epoch: 6, inference time:9.212558031082153, train_loss_avg: 0.2317575775144816, dev_loss_avg: 0.4138895652247864 acc: 0.8406401699029126, recall: 0.8328089244851259, precision: 0.8620281273131014, f1: 0.8471666545428094\n",
      "Validation loss decreased (0.416667 --> 0.413890).  Saving model ...\n",
      "epoch time: 15.644466638565063\n",
      "epoch: 7, inference time:9.581500768661499, train_loss_avg: 0.21422060850202387, dev_loss_avg: 0.4244178441687695 acc: 0.8305521844660194, recall: 0.7938232770946526, precision: 0.8751576292559899, f1: 0.8325086219823064\n",
      "EarlyStopping counter: 1 out of 20\n",
      "epoch time: 16.15690016746521\n",
      "epoch: 8, inference time:8.977256774902344, train_loss_avg: 0.20318629313984518, dev_loss_avg: 0.44383183338688414 acc: 0.8431432038834952, recall: 0.8155825589706933, precision: 0.8799938300169674, f1: 0.8465647722213978\n",
      "EarlyStopping counter: 2 out of 20\n",
      "epoch time: 14.809112310409546\n",
      "epoch: 9, inference time:9.986729383468628, train_loss_avg: 0.19153254897468383, dev_loss_avg: 0.46835283848267156 acc: 0.8303246359223301, recall: 0.7875929102344197, precision: 0.8800511100463185, f1: 0.8312589575318701\n",
      "EarlyStopping counter: 3 out of 20\n",
      "epoch time: 17.13224172592163\n",
      "epoch: 10, inference time:11.06968879699707, train_loss_avg: 0.17979355586886778, dev_loss_avg: 0.5164675333546204 acc: 0.8247117718446602, recall: 0.8742848970251716, precision: 0.810205434062293, f1: 0.8410263465639404\n",
      "EarlyStopping counter: 4 out of 20\n",
      "epoch time: 16.459608793258667\n",
      "epoch: 11, inference time:9.688205003738403, train_loss_avg: 0.1711833933324873, dev_loss_avg: 0.5007796075592921 acc: 0.8297936893203883, recall: 0.8751430205949656, precision: 0.8169559412550067, f1: 0.8450490263775722\n",
      "EarlyStopping counter: 5 out of 20\n",
      "epoch time: 16.89602780342102\n",
      "epoch: 12, inference time:10.40014100074768, train_loss_avg: 0.16068702531199247, dev_loss_avg: 0.4672934939560381 acc: 0.8435224514563107, recall: 0.8204834787584037, precision: 0.8765281173594132, f1: 0.8475803472478759\n",
      "EarlyStopping counter: 6 out of 20\n",
      "epoch time: 17.629257440567017\n",
      "epoch: 13, inference time:10.033446788787842, train_loss_avg: 0.14988356775967737, dev_loss_avg: 0.5058588685775266 acc: 0.843067354368932, recall: 0.8282568282568282, precision: 0.8696696696696696, f1: 0.8484582143118728\n",
      "EarlyStopping counter: 7 out of 20\n",
      "epoch time: 16.59470510482788\n",
      "epoch: 14, inference time:9.31956958770752, train_loss_avg: 0.13796295061661148, dev_loss_avg: 0.5750542055923962 acc: 0.8304763349514563, recall: 0.8397940208839937, precision: 0.8403950758660178, f1: 0.8400944408671389\n",
      "EarlyStopping counter: 8 out of 20\n",
      "epoch time: 18.65761137008667\n",
      "epoch: 15, inference time:10.343085527420044, train_loss_avg: 0.13436710741515756, dev_loss_avg: 0.5630088519413494 acc: 0.8360891990291263, recall: 0.8684586788676008, precision: 0.8303485987696514, f1: 0.8489761688447829\n",
      "EarlyStopping counter: 9 out of 20\n",
      "epoch time: 17.38171124458313\n",
      "epoch: 16, inference time:12.761745691299438, train_loss_avg: 0.12172775676265406, dev_loss_avg: 0.6213609267351696 acc: 0.8255461165048543, recall: 0.7849585358879039, precision: 0.8733693923003499, f1: 0.8268072289156627\n",
      "EarlyStopping counter: 10 out of 20\n",
      "epoch time: 18.08820915222168\n",
      "epoch: 17, inference time:11.719744443893433, train_loss_avg: 0.1146361035328144, dev_loss_avg: 0.629135937294335 acc: 0.8378337378640777, recall: 0.8314735336194564, precision: 0.8582398109864147, f1: 0.844644673739282\n",
      "EarlyStopping counter: 11 out of 20\n",
      "epoch time: 18.834822177886963\n",
      "epoch: 18, inference time:12.213996887207031, train_loss_avg: 0.11382748376184128, dev_loss_avg: 0.5682115041949216 acc: 0.8310072815533981, recall: 0.7794937794937795, precision: 0.8882189995111618, f1: 0.8303122619954304\n",
      "EarlyStopping counter: 12 out of 20\n",
      "epoch time: 18.083633422851562\n",
      "epoch: 19, inference time:11.808669805526733, train_loss_avg: 0.10772764160041444, dev_loss_avg: 0.6177995895731796 acc: 0.8361650485436893, recall: 0.8485411899313501, precision: 0.8434745521751493, f1: 0.846000285184657\n",
      "EarlyStopping counter: 13 out of 20\n"
     ]
    }
   ],
   "source": [
    "n_epochs = 100\n",
    "patience = 20\n",
    "\n",
    "model, train_loss, valid_loss = train_model(\n",
    "    model, batch_size_train, patience, n_epochs)"
   ]
  },
  {
   "cell_type": "code",
   "execution_count": 30,
   "metadata": {},
   "outputs": [
    {
     "name": "stdout",
     "output_type": "stream",
     "text": [
      "epochs: 5, total execution time:3875.949556827545, loss_avg: 0.48512923006716996, acc: 0.7913636363636364, recall: 0.7139705882352941, precision: 0.8571680790960452, f1: 0.7790436456996148\n"
     ]
    }
   ],
   "source": [
    "bert_dict_test = None\n",
    "with open(Path(bert_path_test), 'r') as f:\n",
    "    bert_dict_test = json.load(f)\n",
    "print(\"Initialized test embeddings!\")\n",
    "\n",
    "test_dataset = DatasetPyTorch(\n",
    "    dataset=df_test, embeddings=bert_dict_test,\n",
    "    embedding_source=embedding_source)\n",
    "test_loader = torch.utils.data.DataLoader(\n",
    "    test_dataset, batch_size=batch_size_test,\n",
    "    shuffle=True, num_workers=100,\n",
    "    drop_last=False, pin_memory=True)\n",
    "\n",
    "preds, ground_truth, loss_avg = evaluate_rnn(\n",
    "    model, criterion, optimizer, test_loader, device)\n",
    "accuracy, recall, precision, f1 = eval_perf_binary(preds, ground_truth)\n",
    "\n",
    "print(f\"epochs: {num_epoch}, total execution time:{time() - _time_start}, \"\n",
    "      f\"loss_avg: {np.mean(loss_avg)}, acc: {accuracy}, \"\n",
    "      f\"recall: {recall}, precision: {precision}, f1: {f1}\")"
   ]
  },
  {
   "cell_type": "code",
   "execution_count": 28,
   "metadata": {
    "ExecuteTime": {
     "end_time": "2020-06-02T09:07:48.010481Z",
     "start_time": "2020-06-02T09:07:47.694668Z"
    }
   },
   "outputs": [
    {
     "data": {
      "image/png": "[encoded data removed]",
      "text/plain": [
       "<Figure size 720x576 with 1 Axes>"
      ]
     },
     "metadata": {
      "needs_background": "light"
     },
     "output_type": "display_data"
    }
   ],
   "source": [
    "# visualize the loss as the network trained\n",
    "fig = plt.figure(figsize=(10, 8))\n",
    "plt.plot(range(1, len(train_loss)+1), train_loss, label='Training Loss')\n",
    "plt.plot(range(1, len(valid_loss)+1), valid_loss, label='Dev Loss')\n",
    "\n",
    "# find position of lowest validation loss\n",
    "minposs = valid_loss.index(min(valid_loss))+1\n",
    "plt.axvline(minposs, linestyle='--', color='r',\n",
    "            label='Early Stopping Checkpoint')\n",
    "\n",
    "plt.xlabel('epochs')\n",
    "plt.ylabel('loss')\n",
    "plt.ylim(0, 0.5)\n",
    "plt.xlim(0, len(valid_loss)+1)\n",
    "plt.grid(True)\n",
    "plt.legend()\n",
    "plt.tight_layout()\n",
    "plt.show()\n",
    "fig.savefig('loss_plot.png', bbox_inches='tight')"
   ]
  }
 ],
 "metadata": {
  "kernelspec": {
   "display_name": "dipl",
   "language": "python",
   "name": "dipl"
  },
  "language_info": {
   "codemirror_mode": {
    "name": "ipython",
    "version": 3
   },
   "file_extension": ".py",
   "mimetype": "text/x-python",
   "name": "python",
   "nbconvert_exporter": "python",
   "pygments_lexer": "ipython3",
   "version": "3.8.3"
  },
  "varInspector": {
   "cols": {
    "lenName": 16,
    "lenType": 16,
    "lenVar": 40
   },
   "kernels_config": {
    "python": {
     "delete_cmd_postfix": "",
     "delete_cmd_prefix": "del ",
     "library": "var_list.py",
     "varRefreshCmd": "print(var_dic_list())"
    },
    "r": {
     "delete_cmd_postfix": ") ",
     "delete_cmd_prefix": "rm(",
     "library": "var_list.r",
     "varRefreshCmd": "cat(var_dic_list()) "
    }
   },
   "types_to_exclude": [
    "module",
    "function",
    "builtin_function_or_method",
    "instance",
    "_Feature"
   ],
   "window_display": false
  }
 },
 "nbformat": 4,
 "nbformat_minor": 4
}
