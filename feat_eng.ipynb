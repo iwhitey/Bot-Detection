{
 "cells": [
  {
   "cell_type": "markdown",
   "metadata": {},
   "source": [
    "## Bots and Gender Profiling\n",
    "https://pan.webis.de/clef19/pan19-web/author-profiling.html"
   ]
  },
  {
   "cell_type": "markdown",
   "metadata": {},
   "source": [
    "### feature engineering"
   ]
  },
  {
   "cell_type": "code",
   "execution_count": 59,
   "metadata": {
    "ExecuteTime": {
     "end_time": "2020-05-21T15:08:19.626774Z",
     "start_time": "2020-05-21T15:08:19.623199Z"
    }
   },
   "outputs": [],
   "source": [
    "import nltk\n",
    "import numpy as np\n",
    "import matplotlib.pyplot as plt\n",
    "import pandas as pd\n",
    "import seaborn as sns\n",
    "\n",
    "from sklearn.naive_bayes import GaussianNB\n",
    "from sklearn.metrics import f1_score, accuracy_score\n",
    "from sklearn.feature_extraction.text import TfidfVectorizer\n",
    "from sklearn.feature_selection import SelectKBest, chi2\n",
    "from sklearn.preprocessing import LabelBinarizer"
   ]
  },
  {
   "cell_type": "markdown",
   "metadata": {},
   "source": [
    "#### unpickling the dataframe"
   ]
  },
  {
   "cell_type": "code",
   "execution_count": 65,
   "metadata": {
    "ExecuteTime": {
     "end_time": "2020-05-21T15:40:45.034894Z",
     "start_time": "2020-05-21T15:40:44.652797Z"
    }
   },
   "outputs": [
    {
     "name": "stdout",
     "output_type": "stream",
     "text": [
      "train size: (412000, 4), test size: (264000, 4)\n"
     ]
    }
   ],
   "source": [
    "df_train = pd.read_pickle(\"./pan19_df_clean_train_max.pkl\")\n",
    "df_test = pd.read_pickle(\"./pan19_df_clean_test_max.pkl\")\n",
    "print(f\"train size: {df_train.shape}, test size: {df_test.shape}\")"
   ]
  },
  {
   "cell_type": "code",
   "execution_count": 66,
   "metadata": {
    "ExecuteTime": {
     "end_time": "2020-05-21T15:40:47.467915Z",
     "start_time": "2020-05-21T15:40:47.461007Z"
    }
   },
   "outputs": [],
   "source": [
    "def freq_words(x, terms = 30):\n",
    "    all_words = ' '.join([text for text in x])\n",
    "    all_words = all_words.split()\n",
    "\n",
    "    fdist = nltk.FreqDist(all_words)\n",
    "    words_df = pd.DataFrame({'word':list(fdist.keys()), 'count':list(fdist.values())})\n",
    "\n",
    "    # selecting top n most frequent words\n",
    "    d = words_df.nlargest(columns=\"count\", n = terms) \n",
    "    plt.figure(figsize=(15,terms / 5))\n",
    "    ax = sns.barplot(data=d, x= \"count\", y = \"word\", color='lightseagreen')\n",
    "    ax.set(ylabel = 'Word')\n",
    "\n",
    "    plt.show()\n",
    "    return words_df.shape[0]"
   ]
  },
  {
   "cell_type": "code",
   "execution_count": 67,
   "metadata": {
    "ExecuteTime": {
     "end_time": "2020-05-21T15:40:51.067309Z",
     "start_time": "2020-05-21T15:40:48.097433Z"
    }
   },
   "outputs": [
    {
     "data": {
      "image/png": "[encoded data removed]",
      "text/plain": [
       "<Figure size 1080x288 with 1 Axes>"
      ]
     },
     "metadata": {
      "needs_background": "light"
     },
     "output_type": "display_data"
    },
    {
     "name": "stdout",
     "output_type": "stream",
     "text": [
      "Number of distinct words in dataset: 100168\n"
     ]
    }
   ],
   "source": [
    "# print 20 most frequent words, without rt\n",
    "size = freq_words(df_train['clean_tweet'], 20)\n",
    "print(f\"Number of distinct words in dataset: {size}\")"
   ]
  },
  {
   "cell_type": "code",
   "execution_count": 68,
   "metadata": {
    "ExecuteTime": {
     "end_time": "2020-05-21T15:40:52.519429Z",
     "start_time": "2020-05-21T15:40:52.336835Z"
    }
   },
   "outputs": [
    {
     "name": "stdout",
     "output_type": "stream",
     "text": [
      "<class 'pandas.core.frame.DataFrame'>\n",
      "Int64Index: 676000 entries, 0 to 263999\n",
      "Data columns (total 4 columns):\n",
      " #   Column       Non-Null Count   Dtype \n",
      "---  ------       --------------   ----- \n",
      " 0   author       676000 non-null  object\n",
      " 1   tweet        676000 non-null  object\n",
      " 2   bot          676000 non-null  object\n",
      " 3   clean_tweet  676000 non-null  object\n",
      "dtypes: object(4)\n",
      "memory usage: 25.8+ MB\n"
     ]
    }
   ],
   "source": [
    "df = df_train.append(df_test)\n",
    "df.info()"
   ]
  },
  {
   "cell_type": "code",
   "execution_count": 69,
   "metadata": {
    "ExecuteTime": {
     "end_time": "2020-05-21T15:40:55.593644Z",
     "start_time": "2020-05-21T15:40:55.579127Z"
    }
   },
   "outputs": [
    {
     "data": {
      "text/plain": [
       "208373    RT @mikevansickler: Whoa. Sports Authority to ...\n",
       "361481    RT @EcoAllison: #RiseforClimate event at Trini...\n",
       "266636    Me irl https://t.co/BlRA1lcID3 https://t.co/lV...\n",
       "Name: tweet, dtype: object"
      ]
     },
     "execution_count": 69,
     "metadata": {},
     "output_type": "execute_result"
    }
   ],
   "source": [
    "# df.head()\n",
    "df['tweet'].sample(n=3, random_state=1)"
   ]
  },
  {
   "cell_type": "code",
   "execution_count": 21,
   "metadata": {
    "ExecuteTime": {
     "end_time": "2020-05-21T14:46:26.795826Z",
     "start_time": "2020-05-21T14:46:26.684500Z"
    }
   },
   "outputs": [
    {
     "data": {
      "text/plain": [
       "56.998856796116506"
      ]
     },
     "execution_count": 21,
     "metadata": {},
     "output_type": "execute_result"
    }
   ],
   "source": [
    "df_temp = df_train.copy()\n",
    "df_temp['length'] = df_temp['clean_tweet'].apply(len)\n",
    "mean = df_temp['length'].mean()\n",
    "mean\n"
   ]
  },
  {
   "cell_type": "code",
   "execution_count": 22,
   "metadata": {
    "ExecuteTime": {
     "end_time": "2020-05-21T14:46:27.878968Z",
     "start_time": "2020-05-21T14:46:27.668760Z"
    }
   },
   "outputs": [
    {
     "data": {
      "text/plain": [
       "<matplotlib.axes._subplots.AxesSubplot at 0x7f312bab51d0>"
      ]
     },
     "execution_count": 22,
     "metadata": {},
     "output_type": "execute_result"
    },
    {
     "data": {
      "image/png": "[encoded data removed]",
      "text/plain": [
       "<Figure size 432x288 with 1 Axes>"
      ]
     },
     "metadata": {
      "needs_background": "light"
     },
     "output_type": "display_data"
    }
   ],
   "source": [
    "sns.countplot(df['bot'])"
   ]
  },
  {
   "cell_type": "code",
   "execution_count": 101,
   "metadata": {
    "ExecuteTime": {
     "end_time": "2020-05-21T16:53:18.119922Z",
     "start_time": "2020-05-21T16:53:18.106343Z"
    }
   },
   "outputs": [],
   "source": [
    "def feature(df) :\n",
    "    df['word_count'] = df['tweet'].apply(lambda x : len(x.split()))\n",
    "    df['char_count'] = df['tweet'].apply(lambda x : len(x.replace(\" \",\"\")))\n",
    "    df['word_density'] = df['word_count'] / (df['char_count'] + 1)\n",
    "    df['total_length'] = df['tweet'].apply(len)\n",
    "    df['capitals'] = df['tweet'].apply(lambda tweet: sum(1 for c in tweet if c.isupper()))\n",
    "    df['caps_vs_length'] = df.apply(lambda row: float(row['capitals'])/float(row['total_length']),axis=1)\n",
    "    df['num_exclamation_marks'] =df['tweet'].apply(lambda x: x.count('!'))\n",
    "    df['num_question_marks'] = df['tweet'].apply(lambda x: x.count('?'))\n",
    "    df['num_punctuation'] = df['tweet'].apply(lambda x: sum(x.count(w) for w in '.,;:'))\n",
    "    df['num_symbols'] = df['tweet'].apply(lambda x: sum(x.count(w) for w in '*&$%'))\n",
    "    df['num_unique_words'] = df['tweet'].apply(lambda x: len(set(w for w in x.split())))\n",
    "    df['words_vs_unique'] = df['num_unique_words'] / df['word_count']\n",
    "    df[\"word_unique_percent\"] =  df[\"num_unique_words\"]*100/df['word_count']\n",
    "    df['num_retweet'] = df['clean_tweet'].apply(lambda x: x.count('rt'))\n",
    "    df['num_url'] = df['clean_tweet'].apply(lambda x: x.count('URL_TOKEN'))\n",
    "    df['num_number'] = df['clean_tweet'].apply(lambda x: x.count('NUM_TOKEN'))\n",
    "    return df"
   ]
  },
  {
   "cell_type": "code",
   "execution_count": 102,
   "metadata": {
    "ExecuteTime": {
     "end_time": "2020-05-21T16:53:42.468097Z",
     "start_time": "2020-05-21T16:53:18.915755Z"
    }
   },
   "outputs": [
    {
     "name": "stdout",
     "output_type": "stream",
     "text": [
      "<class 'pandas.core.frame.DataFrame'>\n",
      "Int64Index: 676000 entries, 0 to 263999\n",
      "Data columns (total 20 columns):\n",
      " #   Column                 Non-Null Count   Dtype  \n",
      "---  ------                 --------------   -----  \n",
      " 0   author                 676000 non-null  object \n",
      " 1   tweet                  676000 non-null  object \n",
      " 2   bot                    676000 non-null  object \n",
      " 3   clean_tweet            676000 non-null  object \n",
      " 4   word_count             676000 non-null  int64  \n",
      " 5   char_count             676000 non-null  int64  \n",
      " 6   word_density           676000 non-null  float64\n",
      " 7   total_length           676000 non-null  int64  \n",
      " 8   capitals               676000 non-null  int64  \n",
      " 9   caps_vs_length         676000 non-null  float64\n",
      " 10  num_exclamation_marks  676000 non-null  int64  \n",
      " 11  num_question_marks     676000 non-null  int64  \n",
      " 12  num_punctuation        676000 non-null  int64  \n",
      " 13  num_symbols            676000 non-null  int64  \n",
      " 14  num_unique_words       676000 non-null  int64  \n",
      " 15  words_vs_unique        676000 non-null  float64\n",
      " 16  word_unique_percent    676000 non-null  float64\n",
      " 17  num_retweet            676000 non-null  int64  \n",
      " 18  num_url                676000 non-null  int64  \n",
      " 19  num_number             676000 non-null  int64  \n",
      "dtypes: float64(4), int64(12), object(4)\n",
      "memory usage: 108.3+ MB\n"
     ]
    }
   ],
   "source": [
    "df = feature(df)\n",
    "df.info()"
   ]
  },
  {
   "cell_type": "code",
   "execution_count": 103,
   "metadata": {
    "ExecuteTime": {
     "end_time": "2020-05-21T16:53:42.986697Z",
     "start_time": "2020-05-21T16:53:42.469612Z"
    }
   },
   "outputs": [
    {
     "name": "stdout",
     "output_type": "stream",
     "text": [
      "0.4928786982248521\n",
      "15.67326923076923\n",
      "0.4660177514792899\n",
      "0.18921005917159764\n",
      "0.28942307692307695\n",
      "17.092402366863904\n",
      "0.8753076923076923\n",
      "0.3868994082840237\n"
     ]
    }
   ],
   "source": [
    "print(df.loc[df[\"bot\"] == \"human\"]['num_retweet'].mean())\n",
    "print(df.loc[df[\"bot\"] == \"human\"]['word_count'].mean())\n",
    "print(df.loc[df[\"bot\"] == \"human\"]['num_url'].mean())\n",
    "print(df.loc[df[\"bot\"] == \"human\"]['num_number'].mean())\n",
    "\n",
    "print(df.loc[df[\"bot\"] == \"bot\"]['num_retweet'].mean())\n",
    "print(df.loc[df[\"bot\"] == \"bot\"]['word_count'].mean())\n",
    "print(df.loc[df[\"bot\"] == \"bot\"]['num_url'].mean())\n",
    "print(df.loc[df[\"bot\"] == \"bot\"]['num_number'].mean())"
   ]
  },
  {
   "cell_type": "code",
   "execution_count": 114,
   "metadata": {
    "ExecuteTime": {
     "end_time": "2020-05-21T17:04:57.909368Z",
     "start_time": "2020-05-21T17:04:57.134645Z"
    }
   },
   "outputs": [
    {
     "data": {
      "application/vnd.plotly.v1+json": {
       "config": {
        "plotlyServerURL": "https://plot.ly"
       },
       "data": [
        {
         "fill": "toself",
         "line": {
          "color": "red"
         },
         "name": "bot stats means",
         "r": [
          87.53076923076924,
          38.68994082840237,
          28.942307692307693
         ],
         "subplot": "polar3",
         "theta": [
          "urls",
          "nums",
          "Number of retweets"
         ],
         "type": "scatterpolar"
        },
        {
         "fill": "toself",
         "line": {
          "color": "blue"
         },
         "name": "human stats means",
         "r": [
          46.60177514792899,
          18.921005917159764,
          49.287869822485206
         ],
         "subplot": "polar3",
         "theta": [
          "urls",
          "nums",
          "Number of retweets"
         ],
         "type": "scatterpolar"
        },
        {
         "fill": "toself",
         "line": {
          "color": "brown"
         },
         "name": "bot stats means",
         "r": [
          122.04418047337278,
          106.04140532544379,
          17.092402366863904
         ],
         "subplot": "polar3",
         "theta": [
          "Total_Lenght",
          "Charcount",
          "word count"
         ],
         "type": "scatterpolar"
        },
        {
         "fill": "toself",
         "line": {
          "color": "magenta"
         },
         "name": "human stats means",
         "r": [
          103.97819822485206,
          89.32908875739645,
          17.092402366863904
         ],
         "subplot": "polar3",
         "theta": [
          "Total_Lenght",
          "Charcount",
          "word count"
         ],
         "type": "scatterpolar"
        }
       ],
       "layout": {
        "polar": {
         "domain": {
          "x": [
           0.33,
           0.6525
          ],
          "y": [
           0,
           0.45
          ]
         },
         "radialaxis": {
          "visible": true
         }
        },
        "polar2": {
         "domain": {
          "x": [
           0,
           0.3
          ],
          "y": [
           0,
           0.45
          ]
         },
         "radialaxis": {
          "visible": true
         }
        },
        "polar3": {
         "domain": {
          "x": [
           1,
           1
          ],
          "y": [
           1,
           1
          ]
         },
         "radialaxis": {
          "visible": true
         }
        },
        "polar4": {
         "domain": {
          "x": [
           0.33,
           0.6525
          ],
          "y": [
           0.55,
           1
          ]
         },
         "radialaxis": {
          "visible": true
         }
        },
        "polar5": {
         "domain": {
          "x": [
           0.6775,
           1
          ],
          "y": [
           0,
           0.45
          ]
         },
         "radialaxis": {
          "visible": true
         }
        },
        "polar6": {
         "domain": {
          "x": [
           0.6775,
           1
          ],
          "y": [
           0.55,
           1
          ]
         },
         "radialaxis": {
          "visible": true
         }
        },
        "template": {
         "data": {
          "bar": [
           {
            "error_x": {
             "color": "#2a3f5f"
            },
            "error_y": {
             "color": "#2a3f5f"
            },
            "marker": {
             "line": {
              "color": "#E5ECF6",
              "width": 0.5
             }
            },
            "type": "bar"
           }
          ],
          "barpolar": [
           {
            "marker": {
             "line": {
              "color": "#E5ECF6",
              "width": 0.5
             }
            },
            "type": "barpolar"
           }
          ],
          "carpet": [
           {
            "aaxis": {
             "endlinecolor": "#2a3f5f",
             "gridcolor": "white",
             "linecolor": "white",
             "minorgridcolor": "white",
             "startlinecolor": "#2a3f5f"
            },
            "baxis": {
             "endlinecolor": "#2a3f5f",
             "gridcolor": "white",
             "linecolor": "white",
             "minorgridcolor": "white",
             "startlinecolor": "#2a3f5f"
            },
            "type": "carpet"
           }
          ],
          "choropleth": [
           {
            "colorbar": {
             "outlinewidth": 0,
             "ticks": ""
            },
            "type": "choropleth"
           }
          ],
          "contour": [
           {
            "colorbar": {
             "outlinewidth": 0,
             "ticks": ""
            },
            "colorscale": [
             [
              0,
              "#0d0887"
             ],
             [
              0.1111111111111111,
              "#46039f"
             ],
             [
              0.2222222222222222,
              "#7201a8"
             ],
             [
              0.3333333333333333,
              "#9c179e"
             ],
             [
              0.4444444444444444,
              "#bd3786"
             ],
             [
              0.5555555555555556,
              "#d8576b"
             ],
             [
              0.6666666666666666,
              "#ed7953"
             ],
             [
              0.7777777777777778,
              "#fb9f3a"
             ],
             [
              0.8888888888888888,
              "#fdca26"
             ],
             [
              1,
              "#f0f921"
             ]
            ],
            "type": "contour"
           }
          ],
          "contourcarpet": [
           {
            "colorbar": {
             "outlinewidth": 0,
             "ticks": ""
            },
            "type": "contourcarpet"
           }
          ],
          "heatmap": [
           {
            "colorbar": {
             "outlinewidth": 0,
             "ticks": ""
            },
            "colorscale": [
             [
              0,
              "#0d0887"
             ],
             [
              0.1111111111111111,
              "#46039f"
             ],
             [
              0.2222222222222222,
              "#7201a8"
             ],
             [
              0.3333333333333333,
              "#9c179e"
             ],
             [
              0.4444444444444444,
              "#bd3786"
             ],
             [
              0.5555555555555556,
              "#d8576b"
             ],
             [
              0.6666666666666666,
              "#ed7953"
             ],
             [
              0.7777777777777778,
              "#fb9f3a"
             ],
             [
              0.8888888888888888,
              "#fdca26"
             ],
             [
              1,
              "#f0f921"
             ]
            ],
            "type": "heatmap"
           }
          ],
          "heatmapgl": [
           {
            "colorbar": {
             "outlinewidth": 0,
             "ticks": ""
            },
            "colorscale": [
             [
              0,
              "#0d0887"
             ],
             [
              0.1111111111111111,
              "#46039f"
             ],
             [
              0.2222222222222222,
              "#7201a8"
             ],
             [
              0.3333333333333333,
              "#9c179e"
             ],
             [
              0.4444444444444444,
              "#bd3786"
             ],
             [
              0.5555555555555556,
              "#d8576b"
             ],
             [
              0.6666666666666666,
              "#ed7953"
             ],
             [
              0.7777777777777778,
              "#fb9f3a"
             ],
             [
              0.8888888888888888,
              "#fdca26"
             ],
             [
              1,
              "#f0f921"
             ]
            ],
            "type": "heatmapgl"
           }
          ],
          "histogram": [
           {
            "marker": {
             "colorbar": {
              "outlinewidth": 0,
              "ticks": ""
             }
            },
            "type": "histogram"
           }
          ],
          "histogram2d": [
           {
            "colorbar": {
             "outlinewidth": 0,
             "ticks": ""
            },
            "colorscale": [
             [
              0,
              "#0d0887"
             ],
             [
              0.1111111111111111,
              "#46039f"
             ],
             [
              0.2222222222222222,
              "#7201a8"
             ],
             [
              0.3333333333333333,
              "#9c179e"
             ],
             [
              0.4444444444444444,
              "#bd3786"
             ],
             [
              0.5555555555555556,
              "#d8576b"
             ],
             [
              0.6666666666666666,
              "#ed7953"
             ],
             [
              0.7777777777777778,
              "#fb9f3a"
             ],
             [
              0.8888888888888888,
              "#fdca26"
             ],
             [
              1,
              "#f0f921"
             ]
            ],
            "type": "histogram2d"
           }
          ],
          "histogram2dcontour": [
           {
            "colorbar": {
             "outlinewidth": 0,
             "ticks": ""
            },
            "colorscale": [
             [
              0,
              "#0d0887"
             ],
             [
              0.1111111111111111,
              "#46039f"
             ],
             [
              0.2222222222222222,
              "#7201a8"
             ],
             [
              0.3333333333333333,
              "#9c179e"
             ],
             [
              0.4444444444444444,
              "#bd3786"
             ],
             [
              0.5555555555555556,
              "#d8576b"
             ],
             [
              0.6666666666666666,
              "#ed7953"
             ],
             [
              0.7777777777777778,
              "#fb9f3a"
             ],
             [
              0.8888888888888888,
              "#fdca26"
             ],
             [
              1,
              "#f0f921"
             ]
            ],
            "type": "histogram2dcontour"
           }
          ],
          "mesh3d": [
           {
            "colorbar": {
             "outlinewidth": 0,
             "ticks": ""
            },
            "type": "mesh3d"
           }
          ],
          "parcoords": [
           {
            "line": {
             "colorbar": {
              "outlinewidth": 0,
              "ticks": ""
             }
            },
            "type": "parcoords"
           }
          ],
          "pie": [
           {
            "automargin": true,
            "type": "pie"
           }
          ],
          "scatter": [
           {
            "marker": {
             "colorbar": {
              "outlinewidth": 0,
              "ticks": ""
             }
            },
            "type": "scatter"
           }
          ],
          "scatter3d": [
           {
            "line": {
             "colorbar": {
              "outlinewidth": 0,
              "ticks": ""
             }
            },
            "marker": {
             "colorbar": {
              "outlinewidth": 0,
              "ticks": ""
             }
            },
            "type": "scatter3d"
           }
          ],
          "scattercarpet": [
           {
            "marker": {
             "colorbar": {
              "outlinewidth": 0,
              "ticks": ""
             }
            },
            "type": "scattercarpet"
           }
          ],
          "scattergeo": [
           {
            "marker": {
             "colorbar": {
              "outlinewidth": 0,
              "ticks": ""
             }
            },
            "type": "scattergeo"
           }
          ],
          "scattergl": [
           {
            "marker": {
             "colorbar": {
              "outlinewidth": 0,
              "ticks": ""
             }
            },
            "type": "scattergl"
           }
          ],
          "scattermapbox": [
           {
            "marker": {
             "colorbar": {
              "outlinewidth": 0,
              "ticks": ""
             }
            },
            "type": "scattermapbox"
           }
          ],
          "scatterpolar": [
           {
            "marker": {
             "colorbar": {
              "outlinewidth": 0,
              "ticks": ""
             }
            },
            "type": "scatterpolar"
           }
          ],
          "scatterpolargl": [
           {
            "marker": {
             "colorbar": {
              "outlinewidth": 0,
              "ticks": ""
             }
            },
            "type": "scatterpolargl"
           }
          ],
          "scatterternary": [
           {
            "marker": {
             "colorbar": {
              "outlinewidth": 0,
              "ticks": ""
             }
            },
            "type": "scatterternary"
           }
          ],
          "surface": [
           {
            "colorbar": {
             "outlinewidth": 0,
             "ticks": ""
            },
            "colorscale": [
             [
              0,
              "#0d0887"
             ],
             [
              0.1111111111111111,
              "#46039f"
             ],
             [
              0.2222222222222222,
              "#7201a8"
             ],
             [
              0.3333333333333333,
              "#9c179e"
             ],
             [
              0.4444444444444444,
              "#bd3786"
             ],
             [
              0.5555555555555556,
              "#d8576b"
             ],
             [
              0.6666666666666666,
              "#ed7953"
             ],
             [
              0.7777777777777778,
              "#fb9f3a"
             ],
             [
              0.8888888888888888,
              "#fdca26"
             ],
             [
              1,
              "#f0f921"
             ]
            ],
            "type": "surface"
           }
          ],
          "table": [
           {
            "cells": {
             "fill": {
              "color": "#EBF0F8"
             },
             "line": {
              "color": "white"
             }
            },
            "header": {
             "fill": {
              "color": "#C8D4E3"
             },
             "line": {
              "color": "white"
             }
            },
            "type": "table"
           }
          ]
         },
         "layout": {
          "annotationdefaults": {
           "arrowcolor": "#2a3f5f",
           "arrowhead": 0,
           "arrowwidth": 1
          },
          "coloraxis": {
           "colorbar": {
            "outlinewidth": 0,
            "ticks": ""
           }
          },
          "colorscale": {
           "diverging": [
            [
             0,
             "#8e0152"
            ],
            [
             0.1,
             "#c51b7d"
            ],
            [
             0.2,
             "#de77ae"
            ],
            [
             0.3,
             "#f1b6da"
            ],
            [
             0.4,
             "#fde0ef"
            ],
            [
             0.5,
             "#f7f7f7"
            ],
            [
             0.6,
             "#e6f5d0"
            ],
            [
             0.7,
             "#b8e186"
            ],
            [
             0.8,
             "#7fbc41"
            ],
            [
             0.9,
             "#4d9221"
            ],
            [
             1,
             "#276419"
            ]
           ],
           "sequential": [
            [
             0,
             "#0d0887"
            ],
            [
             0.1111111111111111,
             "#46039f"
            ],
            [
             0.2222222222222222,
             "#7201a8"
            ],
            [
             0.3333333333333333,
             "#9c179e"
            ],
            [
             0.4444444444444444,
             "#bd3786"
            ],
            [
             0.5555555555555556,
             "#d8576b"
            ],
            [
             0.6666666666666666,
             "#ed7953"
            ],
            [
             0.7777777777777778,
             "#fb9f3a"
            ],
            [
             0.8888888888888888,
             "#fdca26"
            ],
            [
             1,
             "#f0f921"
            ]
           ],
           "sequentialminus": [
            [
             0,
             "#0d0887"
            ],
            [
             0.1111111111111111,
             "#46039f"
            ],
            [
             0.2222222222222222,
             "#7201a8"
            ],
            [
             0.3333333333333333,
             "#9c179e"
            ],
            [
             0.4444444444444444,
             "#bd3786"
            ],
            [
             0.5555555555555556,
             "#d8576b"
            ],
            [
             0.6666666666666666,
             "#ed7953"
            ],
            [
             0.7777777777777778,
             "#fb9f3a"
            ],
            [
             0.8888888888888888,
             "#fdca26"
            ],
            [
             1,
             "#f0f921"
            ]
           ]
          },
          "colorway": [
           "#636efa",
           "#EF553B",
           "#00cc96",
           "#ab63fa",
           "#FFA15A",
           "#19d3f3",
           "#FF6692",
           "#B6E880",
           "#FF97FF",
           "#FECB52"
          ],
          "font": {
           "color": "#2a3f5f"
          },
          "geo": {
           "bgcolor": "white",
           "lakecolor": "white",
           "landcolor": "#E5ECF6",
           "showlakes": true,
           "showland": true,
           "subunitcolor": "white"
          },
          "hoverlabel": {
           "align": "left"
          },
          "hovermode": "closest",
          "mapbox": {
           "style": "light"
          },
          "paper_bgcolor": "white",
          "plot_bgcolor": "#E5ECF6",
          "polar": {
           "angularaxis": {
            "gridcolor": "white",
            "linecolor": "white",
            "ticks": ""
           },
           "bgcolor": "#E5ECF6",
           "radialaxis": {
            "gridcolor": "white",
            "linecolor": "white",
            "ticks": ""
           }
          },
          "scene": {
           "xaxis": {
            "backgroundcolor": "#E5ECF6",
            "gridcolor": "white",
            "gridwidth": 2,
            "linecolor": "white",
            "showbackground": true,
            "ticks": "",
            "zerolinecolor": "white"
           },
           "yaxis": {
            "backgroundcolor": "#E5ECF6",
            "gridcolor": "white",
            "gridwidth": 2,
            "linecolor": "white",
            "showbackground": true,
            "ticks": "",
            "zerolinecolor": "white"
           },
           "zaxis": {
            "backgroundcolor": "#E5ECF6",
            "gridcolor": "white",
            "gridwidth": 2,
            "linecolor": "white",
            "showbackground": true,
            "ticks": "",
            "zerolinecolor": "white"
           }
          },
          "shapedefaults": {
           "line": {
            "color": "#2a3f5f"
           }
          },
          "ternary": {
           "aaxis": {
            "gridcolor": "white",
            "linecolor": "white",
            "ticks": ""
           },
           "baxis": {
            "gridcolor": "white",
            "linecolor": "white",
            "ticks": ""
           },
           "bgcolor": "#E5ECF6",
           "caxis": {
            "gridcolor": "white",
            "linecolor": "white",
            "ticks": ""
           }
          },
          "title": {
           "x": 0.05
          },
          "xaxis": {
           "automargin": true,
           "gridcolor": "white",
           "linecolor": "white",
           "ticks": "",
           "title": {
            "standoff": 15
           },
           "zerolinecolor": "white",
           "zerolinewidth": 2
          },
          "yaxis": {
           "automargin": true,
           "gridcolor": "white",
           "linecolor": "white",
           "ticks": "",
           "title": {
            "standoff": 15
           },
           "zerolinecolor": "white",
           "zerolinewidth": 2
          }
         }
        }
       }
      },
      "text/html": [
       "<div>\n",
       "        \n",
       "        \n",
       "            <div id=\"10fb4d9d-ebb8-40d6-8bbb-3615c91aa2e0\" class=\"plotly-graph-div\" style=\"height:525px; width:100%;\"></div>\n",
       "            <script type=\"text/javascript\">\n",
       "                require([\"plotly\"], function(Plotly) {\n",
       "                    window.PLOTLYENV=window.PLOTLYENV || {};\n",
       "                    \n",
       "                if (document.getElementById(\"10fb4d9d-ebb8-40d6-8bbb-3615c91aa2e0\")) {\n",
       "                    Plotly.newPlot(\n",
       "                        '10fb4d9d-ebb8-40d6-8bbb-3615c91aa2e0',\n",
       "                        [{\"fill\": \"toself\", \"line\": {\"color\": \"red\"}, \"name\": \"bot stats means\", \"r\": [87.53076923076924, 38.68994082840237, 28.942307692307693], \"subplot\": \"polar3\", \"theta\": [\"urls\", \"nums\", \"Number of retweets\"], \"type\": \"scatterpolar\"}, {\"fill\": \"toself\", \"line\": {\"color\": \"blue\"}, \"name\": \"human stats means\", \"r\": [46.60177514792899, 18.921005917159764, 49.287869822485206], \"subplot\": \"polar3\", \"theta\": [\"urls\", \"nums\", \"Number of retweets\"], \"type\": \"scatterpolar\"}, {\"fill\": \"toself\", \"line\": {\"color\": \"brown\"}, \"name\": \"bot stats means\", \"r\": [122.04418047337278, 106.04140532544379, 17.092402366863904], \"subplot\": \"polar3\", \"theta\": [\"Total_Lenght\", \"Charcount\", \"word count\"], \"type\": \"scatterpolar\"}, {\"fill\": \"toself\", \"line\": {\"color\": \"magenta\"}, \"name\": \"human stats means\", \"r\": [103.97819822485206, 89.32908875739645, 17.092402366863904], \"subplot\": \"polar3\", \"theta\": [\"Total_Lenght\", \"Charcount\", \"word count\"], \"type\": \"scatterpolar\"}],\n",
       "                        {\"polar\": {\"domain\": {\"x\": [0.33, 0.6525], \"y\": [0, 0.45]}, \"radialaxis\": {\"visible\": true}}, \"polar2\": {\"domain\": {\"x\": [0, 0.3], \"y\": [0, 0.45]}, \"radialaxis\": {\"visible\": true}}, \"polar3\": {\"domain\": {\"x\": [1, 1], \"y\": [1, 1]}, \"radialaxis\": {\"visible\": true}}, \"polar4\": {\"domain\": {\"x\": [0.33, 0.6525], \"y\": [0.55, 1]}, \"radialaxis\": {\"visible\": true}}, \"polar5\": {\"domain\": {\"x\": [0.6775, 1], \"y\": [0, 0.45]}, \"radialaxis\": {\"visible\": true}}, \"polar6\": {\"domain\": {\"x\": [0.6775, 1], \"y\": [0.55, 1]}, \"radialaxis\": {\"visible\": true}}, \"template\": {\"data\": {\"bar\": [{\"error_x\": {\"color\": \"#2a3f5f\"}, \"error_y\": {\"color\": \"#2a3f5f\"}, \"marker\": {\"line\": {\"color\": \"#E5ECF6\", \"width\": 0.5}}, \"type\": \"bar\"}], \"barpolar\": [{\"marker\": {\"line\": {\"color\": \"#E5ECF6\", \"width\": 0.5}}, \"type\": \"barpolar\"}], \"carpet\": [{\"aaxis\": {\"endlinecolor\": \"#2a3f5f\", \"gridcolor\": \"white\", \"linecolor\": \"white\", \"minorgridcolor\": \"white\", \"startlinecolor\": \"#2a3f5f\"}, \"baxis\": {\"endlinecolor\": \"#2a3f5f\", \"gridcolor\": \"white\", \"linecolor\": \"white\", \"minorgridcolor\": \"white\", \"startlinecolor\": \"#2a3f5f\"}, \"type\": \"carpet\"}], \"choropleth\": [{\"colorbar\": {\"outlinewidth\": 0, \"ticks\": \"\"}, \"type\": \"choropleth\"}], \"contour\": [{\"colorbar\": {\"outlinewidth\": 0, \"ticks\": \"\"}, \"colorscale\": [[0.0, \"#0d0887\"], [0.1111111111111111, \"#46039f\"], [0.2222222222222222, \"#7201a8\"], [0.3333333333333333, \"#9c179e\"], [0.4444444444444444, \"#bd3786\"], [0.5555555555555556, \"#d8576b\"], [0.6666666666666666, \"#ed7953\"], [0.7777777777777778, \"#fb9f3a\"], [0.8888888888888888, \"#fdca26\"], [1.0, \"#f0f921\"]], \"type\": \"contour\"}], \"contourcarpet\": [{\"colorbar\": {\"outlinewidth\": 0, \"ticks\": \"\"}, \"type\": \"contourcarpet\"}], \"heatmap\": [{\"colorbar\": {\"outlinewidth\": 0, \"ticks\": \"\"}, \"colorscale\": [[0.0, \"#0d0887\"], [0.1111111111111111, \"#46039f\"], [0.2222222222222222, \"#7201a8\"], [0.3333333333333333, \"#9c179e\"], [0.4444444444444444, \"#bd3786\"], [0.5555555555555556, \"#d8576b\"], [0.6666666666666666, \"#ed7953\"], [0.7777777777777778, \"#fb9f3a\"], [0.8888888888888888, \"#fdca26\"], [1.0, \"#f0f921\"]], \"type\": \"heatmap\"}], \"heatmapgl\": [{\"colorbar\": {\"outlinewidth\": 0, \"ticks\": \"\"}, \"colorscale\": [[0.0, \"#0d0887\"], [0.1111111111111111, \"#46039f\"], [0.2222222222222222, \"#7201a8\"], [0.3333333333333333, \"#9c179e\"], [0.4444444444444444, \"#bd3786\"], [0.5555555555555556, \"#d8576b\"], [0.6666666666666666, \"#ed7953\"], [0.7777777777777778, \"#fb9f3a\"], [0.8888888888888888, \"#fdca26\"], [1.0, \"#f0f921\"]], \"type\": \"heatmapgl\"}], \"histogram\": [{\"marker\": {\"colorbar\": {\"outlinewidth\": 0, \"ticks\": \"\"}}, \"type\": \"histogram\"}], \"histogram2d\": [{\"colorbar\": {\"outlinewidth\": 0, \"ticks\": \"\"}, \"colorscale\": [[0.0, \"#0d0887\"], [0.1111111111111111, \"#46039f\"], [0.2222222222222222, \"#7201a8\"], [0.3333333333333333, \"#9c179e\"], [0.4444444444444444, \"#bd3786\"], [0.5555555555555556, \"#d8576b\"], [0.6666666666666666, \"#ed7953\"], [0.7777777777777778, \"#fb9f3a\"], [0.8888888888888888, \"#fdca26\"], [1.0, \"#f0f921\"]], \"type\": \"histogram2d\"}], \"histogram2dcontour\": [{\"colorbar\": {\"outlinewidth\": 0, \"ticks\": \"\"}, \"colorscale\": [[0.0, \"#0d0887\"], [0.1111111111111111, \"#46039f\"], [0.2222222222222222, \"#7201a8\"], [0.3333333333333333, \"#9c179e\"], [0.4444444444444444, \"#bd3786\"], [0.5555555555555556, \"#d8576b\"], [0.6666666666666666, \"#ed7953\"], [0.7777777777777778, \"#fb9f3a\"], [0.8888888888888888, \"#fdca26\"], [1.0, \"#f0f921\"]], \"type\": \"histogram2dcontour\"}], \"mesh3d\": [{\"colorbar\": {\"outlinewidth\": 0, \"ticks\": \"\"}, \"type\": \"mesh3d\"}], \"parcoords\": [{\"line\": {\"colorbar\": {\"outlinewidth\": 0, \"ticks\": \"\"}}, \"type\": \"parcoords\"}], \"pie\": [{\"automargin\": true, \"type\": \"pie\"}], \"scatter\": [{\"marker\": {\"colorbar\": {\"outlinewidth\": 0, \"ticks\": \"\"}}, \"type\": \"scatter\"}], \"scatter3d\": [{\"line\": {\"colorbar\": {\"outlinewidth\": 0, \"ticks\": \"\"}}, \"marker\": {\"colorbar\": {\"outlinewidth\": 0, \"ticks\": \"\"}}, \"type\": \"scatter3d\"}], \"scattercarpet\": [{\"marker\": {\"colorbar\": {\"outlinewidth\": 0, \"ticks\": \"\"}}, \"type\": \"scattercarpet\"}], \"scattergeo\": [{\"marker\": {\"colorbar\": {\"outlinewidth\": 0, \"ticks\": \"\"}}, \"type\": \"scattergeo\"}], \"scattergl\": [{\"marker\": {\"colorbar\": {\"outlinewidth\": 0, \"ticks\": \"\"}}, \"type\": \"scattergl\"}], \"scattermapbox\": [{\"marker\": {\"colorbar\": {\"outlinewidth\": 0, \"ticks\": \"\"}}, \"type\": \"scattermapbox\"}], \"scatterpolar\": [{\"marker\": {\"colorbar\": {\"outlinewidth\": 0, \"ticks\": \"\"}}, \"type\": \"scatterpolar\"}], \"scatterpolargl\": [{\"marker\": {\"colorbar\": {\"outlinewidth\": 0, \"ticks\": \"\"}}, \"type\": \"scatterpolargl\"}], \"scatterternary\": [{\"marker\": {\"colorbar\": {\"outlinewidth\": 0, \"ticks\": \"\"}}, \"type\": \"scatterternary\"}], \"surface\": [{\"colorbar\": {\"outlinewidth\": 0, \"ticks\": \"\"}, \"colorscale\": [[0.0, \"#0d0887\"], [0.1111111111111111, \"#46039f\"], [0.2222222222222222, \"#7201a8\"], [0.3333333333333333, \"#9c179e\"], [0.4444444444444444, \"#bd3786\"], [0.5555555555555556, \"#d8576b\"], [0.6666666666666666, \"#ed7953\"], [0.7777777777777778, \"#fb9f3a\"], [0.8888888888888888, \"#fdca26\"], [1.0, \"#f0f921\"]], \"type\": \"surface\"}], \"table\": [{\"cells\": {\"fill\": {\"color\": \"#EBF0F8\"}, \"line\": {\"color\": \"white\"}}, \"header\": {\"fill\": {\"color\": \"#C8D4E3\"}, \"line\": {\"color\": \"white\"}}, \"type\": \"table\"}]}, \"layout\": {\"annotationdefaults\": {\"arrowcolor\": \"#2a3f5f\", \"arrowhead\": 0, \"arrowwidth\": 1}, \"coloraxis\": {\"colorbar\": {\"outlinewidth\": 0, \"ticks\": \"\"}}, \"colorscale\": {\"diverging\": [[0, \"#8e0152\"], [0.1, \"#c51b7d\"], [0.2, \"#de77ae\"], [0.3, \"#f1b6da\"], [0.4, \"#fde0ef\"], [0.5, \"#f7f7f7\"], [0.6, \"#e6f5d0\"], [0.7, \"#b8e186\"], [0.8, \"#7fbc41\"], [0.9, \"#4d9221\"], [1, \"#276419\"]], \"sequential\": [[0.0, \"#0d0887\"], [0.1111111111111111, \"#46039f\"], [0.2222222222222222, \"#7201a8\"], [0.3333333333333333, \"#9c179e\"], [0.4444444444444444, \"#bd3786\"], [0.5555555555555556, \"#d8576b\"], [0.6666666666666666, \"#ed7953\"], [0.7777777777777778, \"#fb9f3a\"], [0.8888888888888888, \"#fdca26\"], [1.0, \"#f0f921\"]], \"sequentialminus\": [[0.0, \"#0d0887\"], [0.1111111111111111, \"#46039f\"], [0.2222222222222222, \"#7201a8\"], [0.3333333333333333, \"#9c179e\"], [0.4444444444444444, \"#bd3786\"], [0.5555555555555556, \"#d8576b\"], [0.6666666666666666, \"#ed7953\"], [0.7777777777777778, \"#fb9f3a\"], [0.8888888888888888, \"#fdca26\"], [1.0, \"#f0f921\"]]}, \"colorway\": [\"#636efa\", \"#EF553B\", \"#00cc96\", \"#ab63fa\", \"#FFA15A\", \"#19d3f3\", \"#FF6692\", \"#B6E880\", \"#FF97FF\", \"#FECB52\"], \"font\": {\"color\": \"#2a3f5f\"}, \"geo\": {\"bgcolor\": \"white\", \"lakecolor\": \"white\", \"landcolor\": \"#E5ECF6\", \"showlakes\": true, \"showland\": true, \"subunitcolor\": \"white\"}, \"hoverlabel\": {\"align\": \"left\"}, \"hovermode\": \"closest\", \"mapbox\": {\"style\": \"light\"}, \"paper_bgcolor\": \"white\", \"plot_bgcolor\": \"#E5ECF6\", \"polar\": {\"angularaxis\": {\"gridcolor\": \"white\", \"linecolor\": \"white\", \"ticks\": \"\"}, \"bgcolor\": \"#E5ECF6\", \"radialaxis\": {\"gridcolor\": \"white\", \"linecolor\": \"white\", \"ticks\": \"\"}}, \"scene\": {\"xaxis\": {\"backgroundcolor\": \"#E5ECF6\", \"gridcolor\": \"white\", \"gridwidth\": 2, \"linecolor\": \"white\", \"showbackground\": true, \"ticks\": \"\", \"zerolinecolor\": \"white\"}, \"yaxis\": {\"backgroundcolor\": \"#E5ECF6\", \"gridcolor\": \"white\", \"gridwidth\": 2, \"linecolor\": \"white\", \"showbackground\": true, \"ticks\": \"\", \"zerolinecolor\": \"white\"}, \"zaxis\": {\"backgroundcolor\": \"#E5ECF6\", \"gridcolor\": \"white\", \"gridwidth\": 2, \"linecolor\": \"white\", \"showbackground\": true, \"ticks\": \"\", \"zerolinecolor\": \"white\"}}, \"shapedefaults\": {\"line\": {\"color\": \"#2a3f5f\"}}, \"ternary\": {\"aaxis\": {\"gridcolor\": \"white\", \"linecolor\": \"white\", \"ticks\": \"\"}, \"baxis\": {\"gridcolor\": \"white\", \"linecolor\": \"white\", \"ticks\": \"\"}, \"bgcolor\": \"#E5ECF6\", \"caxis\": {\"gridcolor\": \"white\", \"linecolor\": \"white\", \"ticks\": \"\"}}, \"title\": {\"x\": 0.05}, \"xaxis\": {\"automargin\": true, \"gridcolor\": \"white\", \"linecolor\": \"white\", \"ticks\": \"\", \"title\": {\"standoff\": 15}, \"zerolinecolor\": \"white\", \"zerolinewidth\": 2}, \"yaxis\": {\"automargin\": true, \"gridcolor\": \"white\", \"linecolor\": \"white\", \"ticks\": \"\", \"title\": {\"standoff\": 15}, \"zerolinecolor\": \"white\", \"zerolinewidth\": 2}}}},\n",
       "                        {\"responsive\": true}\n",
       "                    ).then(function(){\n",
       "                            \n",
       "var gd = document.getElementById('10fb4d9d-ebb8-40d6-8bbb-3615c91aa2e0');\n",
       "var x = new MutationObserver(function (mutations, observer) {{\n",
       "        var display = window.getComputedStyle(gd).display;\n",
       "        if (!display || display === 'none') {{\n",
       "            console.log([gd, 'removed!']);\n",
       "            Plotly.purge(gd);\n",
       "            observer.disconnect();\n",
       "        }}\n",
       "}});\n",
       "\n",
       "// Listen for the removal of the full notebook cells\n",
       "var notebookContainer = gd.closest('#notebook-container');\n",
       "if (notebookContainer) {{\n",
       "    x.observe(notebookContainer, {childList: true});\n",
       "}}\n",
       "\n",
       "// Listen for the clearing of the current output cell\n",
       "var outputEl = gd.closest('.output');\n",
       "if (outputEl) {{\n",
       "    x.observe(outputEl, {childList: true});\n",
       "}}\n",
       "\n",
       "                        })\n",
       "                };\n",
       "                });\n",
       "            </script>\n",
       "        </div>"
      ]
     },
     "metadata": {},
     "output_type": "display_data"
    }
   ],
   "source": [
    "import plotly.graph_objects as go\n",
    "\n",
    "fig = go.Figure(\n",
    "    data=[\n",
    "        #         go.Scatterpolar(\n",
    "        #             r=[df.loc[df[\"bot\"] == \"bot\"]['total_length'].median(),\n",
    "        #                 df.loc[df[\"bot\"] == \"bot\"]['word_count'].median(),\n",
    "        #                 df.loc[df[\"bot\"] == \"bot\"]['num_unique_words'].median(),\n",
    "        #                 df.loc[df[\"bot\"] == \"bot\"]['num_retweet'].median() * 100,\n",
    "        #                 df.loc[df[\"bot\"] == \"bot\"]['char_count'].median()],\n",
    "        #             theta=['Total_Lenght', 'WordCount',\n",
    "        #                    'Count_unique_words', \"Number of retweets\", \"Charcount\"],\n",
    "        #             fill='toself',\n",
    "        #             line=dict(color='brown'),\n",
    "        #             name=\"bot stats\", subplot=\"polar\"),\n",
    "\n",
    "        #         go.Scatterpolar(\n",
    "        #             r=[df.loc[df[\"bot\"] == \"human\"]['total_length'].median(),\n",
    "        #                 df.loc[df[\"bot\"] == \"human\"]['word_count'].median(),\n",
    "        #                 df.loc[df[\"bot\"] == \"human\"]['num_unique_words'].median(),\n",
    "        #                 df.loc[df[\"bot\"] == \"human\"]['num_retweet'].median() * 100,\n",
    "        #                 df.loc[df[\"bot\"] == \"human\"]['char_count'].median()],\n",
    "        #             theta=['Total_Lenght', 'WordCount',\n",
    "        #                    'Count_unique_words', \"Number of retweets\", \"Charcount\"],\n",
    "        #             fill='toself',\n",
    "        #             line=dict(color='magenta'),\n",
    "        #             name=\"human stats\", subplot=\"polar2\"),\n",
    "        go.Scatterpolar(\n",
    "            r=[df.loc[df[\"bot\"] == \"bot\"]['num_url'].mean() * 100,\n",
    "               df.loc[df[\"bot\"] == \"bot\"]['num_number'].mean() * 100,\n",
    "               df.loc[df[\"bot\"] == \"bot\"]['num_retweet'].mean() * 100],\n",
    "            theta=['urls', \"nums\", \"Number of retweets\"],\n",
    "            fill='toself',\n",
    "            line=dict(color='red'),\n",
    "            name=\"bot stats means\", subplot=\"polar3\"),\n",
    "\n",
    "        go.Scatterpolar(\n",
    "            r=[df.loc[df[\"bot\"] == \"human\"]['num_url'].mean() * 100,\n",
    "               df.loc[df[\"bot\"] == \"human\"]['num_number'].mean() * 100,\n",
    "               df.loc[df[\"bot\"] == \"human\"]['num_retweet'].mean() * 100],\n",
    "            theta=['urls', \"nums\", \"Number of retweets\"],\n",
    "            fill='toself',\n",
    "            line=dict(color='blue'),\n",
    "            name=\"human stats means\", subplot=\"polar3\"),\n",
    "\n",
    "        go.Scatterpolar(\n",
    "            r=[df.loc[df[\"bot\"] == \"bot\"]['total_length'].mean(),\n",
    "                df.loc[df[\"bot\"] == \"bot\"]['char_count'].mean(),\n",
    "                df.loc[df[\"bot\"] == \"bot\"]['word_count'].mean()],\n",
    "            theta=['Total_Lenght', 'Charcount', \"word count\"],\n",
    "            fill='toself',\n",
    "            line=dict(color='brown'),\n",
    "            name=\"bot stats means\", subplot=\"polar3\"),\n",
    "\n",
    "        go.Scatterpolar(\n",
    "            r=[df.loc[df[\"bot\"] == \"human\"]['total_length'].mean(),\n",
    "                df.loc[df[\"bot\"] == \"human\"]['char_count'].mean(),\n",
    "                df.loc[df[\"bot\"] == \"bot\"]['word_count'].mean()],\n",
    "            theta=['Total_Lenght', 'Charcount', \"word count\"],\n",
    "            fill='toself',\n",
    "            line=dict(color='magenta'),\n",
    "            name=\"human stats means\", subplot=\"polar3\")\n",
    "    ],\n",
    "    layout=go.Layout(\n",
    "        polar3=dict(\n",
    "            domain=dict(\n",
    "                x=[1, 1],\n",
    "                y=[1, 1]\n",
    "            ),\n",
    "            radialaxis=dict(visible=True,)),\n",
    "        polar2=dict(\n",
    "            domain=dict(\n",
    "                x=[0, 0.3],\n",
    "                y=[0, 0.45]\n",
    "            ),\n",
    "            radialaxis=dict(visible=True,)),\n",
    "\n",
    "        polar=dict(\n",
    "            domain=dict(\n",
    "                x=[0.33, 0.6525],\n",
    "                y=[0, 0.45]\n",
    "            ),\n",
    "            radialaxis=dict(visible=True,)),\n",
    "\n",
    "        polar4=dict(\n",
    "            domain=dict(\n",
    "                x=[0.33, 0.6525],\n",
    "                y=[0.55, 1]\n",
    "            ),\n",
    "            radialaxis=dict(visible=True,)),\n",
    "\n",
    "        polar5=dict(\n",
    "            domain=dict(\n",
    "                x=[0.6775, 1],\n",
    "                y=[0, 0.45]\n",
    "            ),\n",
    "            radialaxis=dict(visible=True,)),\n",
    "        polar6=dict(\n",
    "            domain=dict(\n",
    "                x=[0.6775, 1],\n",
    "                y=[0.55, 1]\n",
    "            ),\n",
    "            radialaxis=dict(visible=True,))\n",
    "    )\n",
    ")\n",
    "\n",
    "fig.show()"
   ]
  },
  {
   "cell_type": "code",
   "execution_count": null,
   "metadata": {},
   "outputs": [],
   "source": []
  },
  {
   "cell_type": "code",
   "execution_count": null,
   "metadata": {},
   "outputs": [],
   "source": []
  },
  {
   "cell_type": "code",
   "execution_count": null,
   "metadata": {},
   "outputs": [],
   "source": []
  },
  {
   "cell_type": "markdown",
   "metadata": {},
   "source": [
    "#### transforming target variables"
   ]
  },
  {
   "cell_type": "code",
   "execution_count": 5,
   "metadata": {
    "ExecuteTime": {
     "end_time": "2020-05-14T21:03:56.141547Z",
     "start_time": "2020-05-14T21:03:55.525159Z"
    }
   },
   "outputs": [
    {
     "data": {
      "text/plain": [
       "['bot', 'human']"
      ]
     },
     "execution_count": 5,
     "metadata": {},
     "output_type": "execute_result"
    }
   ],
   "source": [
    "multilabel_binarizer = LabelBinarizer()\n",
    "multilabel_binarizer.fit(df_train['bot'])\n",
    "list(multilabel_binarizer.classes_)"
   ]
  },
  {
   "cell_type": "code",
   "execution_count": 6,
   "metadata": {
    "ExecuteTime": {
     "end_time": "2020-05-14T21:03:56.842383Z",
     "start_time": "2020-05-14T21:03:56.142832Z"
    }
   },
   "outputs": [
    {
     "name": "stdout",
     "output_type": "stream",
     "text": [
      "train dimensions: (412000, 1)\n",
      "test dimensions: (264000, 1)\n"
     ]
    }
   ],
   "source": [
    "ytrain = multilabel_binarizer.transform(df_train['bot'])\n",
    "ytest = multilabel_binarizer.transform(df_test['bot'])\n",
    "print(f\"train dimensions: {len(ytrain), len(ytrain[0])}\")\n",
    "print(f\"test dimensions: {len(ytest), len(ytest[0])}\")"
   ]
  },
  {
   "cell_type": "code",
   "execution_count": 7,
   "metadata": {
    "ExecuteTime": {
     "end_time": "2020-05-14T21:03:56.873460Z",
     "start_time": "2020-05-14T21:03:56.843916Z"
    }
   },
   "outputs": [
    {
     "name": "stdout",
     "output_type": "stream",
     "text": [
      "train dimensions: (412000, 118)\n",
      "test dimensions: (264000, 30)\n"
     ]
    }
   ],
   "source": [
    "xtrain=df_train.clean_tweet\n",
    "xtest=df_test.clean_tweet\n",
    "print(f\"train dimensions: {len(xtrain), len(xtrain[0])}\")\n",
    "print(f\"test dimensions: {len(xtest), len(xtest[0])}\")"
   ]
  },
  {
   "cell_type": "code",
   "execution_count": 8,
   "metadata": {
    "ExecuteTime": {
     "end_time": "2020-05-14T21:03:56.943242Z",
     "start_time": "2020-05-14T21:03:56.874708Z"
    }
   },
   "outputs": [
    {
     "data": {
      "text/plain": [
       "'brief chat hope hick accidentally convinces president trump nazi heavily armed adam sandler get tackled secret service'"
      ]
     },
     "execution_count": 8,
     "metadata": {},
     "output_type": "execute_result"
    }
   ],
   "source": [
    "xtrain[0]"
   ]
  },
  {
   "cell_type": "code",
   "execution_count": 9,
   "metadata": {
    "ExecuteTime": {
     "end_time": "2020-05-14T21:04:21.552355Z",
     "start_time": "2020-05-14T21:03:57.328174Z"
    },
    "scrolled": true
   },
   "outputs": [
    {
     "name": "stdout",
     "output_type": "stream",
     "text": [
      "(412000, 10000) (264000, 10000)\n"
     ]
    }
   ],
   "source": [
    "tfidf_vectorizer = TfidfVectorizer(max_df=0.8, max_features=10000, ngram_range = (1,3))\n",
    "\n",
    "xtrain_tfidf = tfidf_vectorizer.fit_transform(xtrain)\n",
    "xtest_tfidf = tfidf_vectorizer.transform(xtest)\n",
    "print (xtrain_tfidf.shape, xtest_tfidf.shape)"
   ]
  },
  {
   "cell_type": "code",
   "execution_count": 16,
   "metadata": {
    "ExecuteTime": {
     "end_time": "2020-05-14T21:05:20.147037Z",
     "start_time": "2020-05-14T21:05:19.916175Z"
    }
   },
   "outputs": [
    {
     "name": "stdout",
     "output_type": "stream",
     "text": [
      "(412000, 10000)\n",
      "(412000, 20)\n",
      "<class 'scipy.sparse.csr.csr_matrix'>\n",
      "<class 'numpy.ndarray'>\n",
      "(412000, 20)\n"
     ]
    }
   ],
   "source": [
    "X_train, X_test, y_train, y_test = xtrain_tfidf, xtest_tfidf, ytrain, ytest\n",
    "\n",
    "print(X_train.shape)\n",
    "X_train_new = SelectKBest(chi2, k=20).fit_transform(X_train, y_train)\n",
    "print(X_train_new.shape)\n",
    "print(type(X_train_new))\n",
    "print(type(X_train_new.toarray()))\n",
    "print(X_train_new.toarray().shape)\n"
   ]
  },
  {
   "cell_type": "code",
   "execution_count": 10,
   "metadata": {
    "ExecuteTime": {
     "end_time": "2020-05-14T18:21:15.329442Z",
     "start_time": "2020-05-14T18:20:16.291648Z"
    }
   },
   "outputs": [
    {
     "name": "stdout",
     "output_type": "stream",
     "text": [
      "Automatically created module for IPython interactive environment\n",
      "              precision    recall  f1-score   support\n",
      "\n",
      "           0       0.80      0.51      0.62    132000\n",
      "           1       0.64      0.87      0.74    132000\n",
      "\n",
      "    accuracy                           0.69    264000\n",
      "   macro avg       0.72      0.69      0.68    264000\n",
      "weighted avg       0.72      0.69      0.68    264000\n",
      "\n",
      "[[0. 0. 0. ... 0. 0. 0.]]\n"
     ]
    }
   ],
   "source": [
    "from sklearn import svm\n",
    "# from sklearn.datasets import make_classification\n",
    "from sklearn.feature_selection import SelectKBest, chi2\n",
    "from sklearn.pipeline import make_pipeline\n",
    "from sklearn.model_selection import train_test_split\n",
    "from sklearn.metrics import classification_report\n",
    "\n",
    "print(__doc__)\n",
    "\n",
    "# import some data to play with\n",
    "# X, y = make_classification(\n",
    "#     n_features=20, n_informative=3, n_redundant=0, n_classes=4,\n",
    "#     n_clusters_per_class=2)\n",
    "\n",
    "# X_train, X_test, y_train, y_test = train_test_split(X, y, random_state=42)\n",
    "X_train, X_test, y_train, y_test = xtrain_tfidf, xtest_tfidf, ytrain, ytest\n",
    "# ANOVA SVM-C\n",
    "# 1) anova filter, take 3 best ranked features\n",
    "anova_filter = SelectKBest(f_regression, k=2000)\n",
    "# 2) svm\n",
    "clf = svm.LinearSVC()\n",
    "\n",
    "anova_svm = make_pipeline(anova_filter, clf)\n",
    "\n",
    "anova_svm.fit(X_train.toarray(), y_train.ravel())\n",
    "y_pred = anova_svm.predict(X_test)\n",
    "print(classification_report(y_test, y_pred))\n",
    "\n",
    "coef = anova_svm[:-1].inverse_transform(anova_svm['linearsvc'].coef_)\n",
    "print(coef)"
   ]
  },
  {
   "cell_type": "markdown",
   "metadata": {
    "ExecuteTime": {
     "end_time": "2020-05-12T08:42:16.138492Z",
     "start_time": "2020-05-12T08:42:16.103335Z"
    }
   },
   "source": [
    "#### prediction"
   ]
  },
  {
   "cell_type": "code",
   "execution_count": 31,
   "metadata": {
    "ExecuteTime": {
     "end_time": "2020-05-12T11:33:51.803901Z",
     "start_time": "2020-05-12T11:33:47.749465Z"
    },
    "scrolled": false
   },
   "outputs": [
    {
     "name": "stdout",
     "output_type": "stream",
     "text": [
      "accuracy_score: 0.6536363636363637\n",
      "f1-macro: 0.6272872259651714\n"
     ]
    }
   ],
   "source": [
    "# no mentions, hashtags, urls, numbers\n",
    "print(f\"accuracy_score: {accuracy_score(ytest, y_predict_nb)}\")\n",
    "print(f\"f1-macro: {f1_score(ytest, y_predict_nb, average='macro')}\")"
   ]
  }
 ],
 "metadata": {
  "kernelspec": {
   "display_name": "tar",
   "language": "python",
   "name": "tar"
  },
  "language_info": {
   "codemirror_mode": {
    "name": "ipython",
    "version": 3
   },
   "file_extension": ".py",
   "mimetype": "text/x-python",
   "name": "python",
   "nbconvert_exporter": "python",
   "pygments_lexer": "ipython3",
   "version": "3.7.7"
  }
 },
 "nbformat": 4,
 "nbformat_minor": 4
}
